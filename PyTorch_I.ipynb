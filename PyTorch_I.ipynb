{
  "nbformat": 4,
  "nbformat_minor": 0,
  "metadata": {
    "colab": {
      "name": "PyTorch I.ipynb",
      "provenance": [],
      "collapsed_sections": [],
      "toc_visible": true,
      "authorship_tag": "ABX9TyOCr3T+LVVl4lgLa++sSSwA",
      "include_colab_link": true
    },
    "kernelspec": {
      "name": "python3",
      "display_name": "Python 3"
    },
    "language_info": {
      "name": "python"
    }
  },
  "cells": [
    {
      "cell_type": "markdown",
      "metadata": {
        "id": "view-in-github",
        "colab_type": "text"
      },
      "source": [
        "<a href=\"https://colab.research.google.com/github/shairatabassum/PyTorch_Learning/blob/main/PyTorch_I.ipynb\" target=\"_parent\"><img src=\"https://colab.research.google.com/assets/colab-badge.svg\" alt=\"Open In Colab\"/></a>"
      ]
    },
    {
      "cell_type": "markdown",
      "metadata": {
        "id": "x2GMTbCi5NqI"
      },
      "source": [
        "# **Deep Learning with PyTorch** (part I)\n",
        "A PyTorch notebook that I created while learning **PyTorch** through a series of tutorials on YouTube.\n",
        "\n",
        "Source: [PyTorch Tutorials - Complete Beginner Course](https://www.youtube.com/watch?v=EMXfZB8FVUA&list=PLqnslRFeH2UrcDBWF5mfPGpqQDSta6VK4)\n",
        "\n",
        "> **Table of contents**\n",
        "> *  Tensor Basics\n",
        "> *  Gradient Calculation with Autograd\n",
        "> *  Backpropagation Algorithm\n",
        "> *  Gradient Descent with Autograd and Backpropagation\n",
        "\n"
      ]
    },
    {
      "cell_type": "code",
      "metadata": {
        "id": "JP6ygdIK257k"
      },
      "source": [
        "import torch\n",
        "import numpy as np"
      ],
      "execution_count": null,
      "outputs": []
    },
    {
      "cell_type": "markdown",
      "metadata": {
        "id": "yZOALra0NjBa"
      },
      "source": [
        "### **Tensor Basics**\n",
        "A tensor is a container like arrays or martices which can store data in N dimensions.\n",
        "\n",
        "We can create an N-dimensional tensor in the following ways: \n",
        "\n",
        "*   Empty tensor: tensor.empty(a,b)\n",
        "*   Random values: tensor.rand(a,b)\n",
        "*   Zeros: tensor.zeros(a,b)\n",
        "*   Ones: tensor.ones(a,b)\n",
        "*   List: tensor.tensor([a,b,c])\n"
      ]
    },
    {
      "cell_type": "code",
      "metadata": {
        "colab": {
          "base_uri": "https://localhost:8080/"
        },
        "id": "59h5pt59Mugu",
        "outputId": "0f7c5ee5-a4e1-41d5-a3e3-f5dd8e122371"
      },
      "source": [
        "# create tensor with random values\n",
        "x = torch.rand(2, 3)\n",
        "print(x)"
      ],
      "execution_count": null,
      "outputs": [
        {
          "output_type": "stream",
          "text": [
            "tensor([[0.5330, 0.6598, 0.7579],\n",
            "        [0.4180, 0.5001, 0.1037]])\n"
          ],
          "name": "stdout"
        }
      ]
    },
    {
      "cell_type": "code",
      "metadata": {
        "colab": {
          "base_uri": "https://localhost:8080/"
        },
        "id": "WadRDZ3UQ9Lm",
        "outputId": "ba86c76e-63b2-42ac-e2b9-fcfadba82e6f"
      },
      "source": [
        "# create tensor from a list of data\n",
        "x = torch.tensor([2.5, 3.1])\n",
        "print(x)"
      ],
      "execution_count": null,
      "outputs": [
        {
          "output_type": "stream",
          "text": [
            "tensor([2.5000, 3.1000])\n"
          ],
          "name": "stdout"
        }
      ]
    },
    {
      "cell_type": "code",
      "metadata": {
        "colab": {
          "base_uri": "https://localhost:8080/"
        },
        "id": "WuHBD6jKPB6I",
        "outputId": "44ba6dea-1975-46ef-bb26-b1dd1a966f33"
      },
      "source": [
        "# set data type to integer\n",
        "x = torch.ones(2,3, dtype=torch.int)\n",
        "print(x)"
      ],
      "execution_count": null,
      "outputs": [
        {
          "output_type": "stream",
          "text": [
            "tensor([[1, 1, 1],\n",
            "        [1, 1, 1]], dtype=torch.int32)\n"
          ],
          "name": "stdout"
        }
      ]
    },
    {
      "cell_type": "markdown",
      "metadata": {
        "id": "Ejon1U6aTU6N"
      },
      "source": [
        "**Basic Operations**\n",
        "\n",
        "*   **Element-wise addition:** Let, 'x' and 'y' are two tensors.\n",
        "    *  z = x+y\n",
        "    *  z = torch.add(x,y)\n",
        "*   **In-place addition:** Let, 'x' and 'y' are two tensors.\n",
        "    *  y.add_(x)\n",
        "*   **Similarly other operations:**\n",
        "    * Element-wise Substraction: torch.sub(x,y)\n",
        "    * In-place Substraction: y.sub_(x)\n",
        "    * Element-wise Multiplication: torch.mul(x,y)\n",
        "    * In-place Multiplication: y.mul_(x)\n",
        "    * Element-wise Division: torch.div(x,y)\n",
        "    * In-place Division: y.div_(x)\n",
        "*  **Slicing:** similar to NumPy\n",
        "*  Printing exact value using **item** method if the tensor contains only one element\n",
        "\n",
        "\n",
        "\n"
      ]
    },
    {
      "cell_type": "code",
      "metadata": {
        "id": "dudiEwH_R3Ka",
        "colab": {
          "base_uri": "https://localhost:8080/"
        },
        "outputId": "86d38b24-2906-41c1-9e69-b428e461c152"
      },
      "source": [
        "x = torch.rand(2,2)\n",
        "y = torch.rand(2,2)\n",
        "print(x)\n",
        "print(y)\n",
        "\n",
        "# element-wise addition\n",
        "z = torch.add(x, y)\n",
        "print(z)\n",
        "\n",
        "# in-place addition\n",
        "y.add_(x)\n",
        "print(y)"
      ],
      "execution_count": null,
      "outputs": [
        {
          "output_type": "stream",
          "text": [
            "tensor([[0.0094, 0.5772],\n",
            "        [0.0075, 0.7387]])\n",
            "tensor([[0.4397, 0.0900],\n",
            "        [0.1199, 0.7112]])\n",
            "tensor([[0.4491, 0.6672],\n",
            "        [0.1274, 1.4499]])\n",
            "tensor([[0.4491, 0.6672],\n",
            "        [0.1274, 1.4499]])\n"
          ],
          "name": "stdout"
        }
      ]
    },
    {
      "cell_type": "code",
      "metadata": {
        "colab": {
          "base_uri": "https://localhost:8080/"
        },
        "id": "FS69x9wEyYWB",
        "outputId": "1309dc9b-5d7d-4696-d966-1c96633357f4"
      },
      "source": [
        "# slicing\n",
        "x = torch.rand(5, 3)\n",
        "print(x)\n",
        "print(x[:,0])"
      ],
      "execution_count": null,
      "outputs": [
        {
          "output_type": "stream",
          "text": [
            "tensor([[0.5835, 0.6319, 0.6027],\n",
            "        [0.8808, 0.3355, 0.3617],\n",
            "        [0.6630, 0.6068, 0.6958],\n",
            "        [0.3266, 0.4545, 0.3639],\n",
            "        [0.0905, 0.2668, 0.5568]])\n",
            "tensor([0.5835, 0.8808, 0.6630, 0.3266, 0.0905])\n"
          ],
          "name": "stdout"
        }
      ]
    },
    {
      "cell_type": "code",
      "metadata": {
        "colab": {
          "base_uri": "https://localhost:8080/"
        },
        "id": "CA4HE8LKzqou",
        "outputId": "733b44b6-9f7a-495e-f01b-377bacece289"
      },
      "source": [
        "# printing actual value (if there is only one element in the tensor)\n",
        "print(x[1,1])\n",
        "print(x[1,1].item())"
      ],
      "execution_count": null,
      "outputs": [
        {
          "output_type": "stream",
          "text": [
            "tensor(0.3355)\n",
            "0.33550912141799927\n"
          ],
          "name": "stdout"
        }
      ]
    },
    {
      "cell_type": "markdown",
      "metadata": {
        "id": "Bz5SiJbPRI6I"
      },
      "source": [
        "**Reshaping Tensors**"
      ]
    },
    {
      "cell_type": "code",
      "metadata": {
        "colab": {
          "base_uri": "https://localhost:8080/"
        },
        "id": "hB9pNqEv0fvb",
        "outputId": "cb7c17a0-abab-4385-88b9-e8751e100ed4"
      },
      "source": [
        "x = torch.rand(4,4)\n",
        "print(x)\n",
        "y = x.view(16)\n",
        "print(y)"
      ],
      "execution_count": null,
      "outputs": [
        {
          "output_type": "stream",
          "text": [
            "tensor([[0.9440, 0.5771, 0.8599, 0.5343],\n",
            "        [0.7928, 0.3284, 0.6501, 0.5881],\n",
            "        [0.8178, 0.1650, 0.0027, 0.0413],\n",
            "        [0.8925, 0.1205, 0.4147, 0.8908]])\n",
            "tensor([0.9440, 0.5771, 0.8599, 0.5343, 0.7928, 0.3284, 0.6501, 0.5881, 0.8178,\n",
            "        0.1650, 0.0027, 0.0413, 0.8925, 0.1205, 0.4147, 0.8908])\n"
          ],
          "name": "stdout"
        }
      ]
    },
    {
      "cell_type": "code",
      "metadata": {
        "colab": {
          "base_uri": "https://localhost:8080/"
        },
        "id": "L_ELJ-2pRV7W",
        "outputId": "bd0f7b9a-1a3d-429e-9b0c-b61820c4becc"
      },
      "source": [
        "# determining only one dimension\n",
        "y = x.view(-1, 8)\n",
        "print(y)"
      ],
      "execution_count": null,
      "outputs": [
        {
          "output_type": "stream",
          "text": [
            "tensor([[0.9440, 0.5771, 0.8599, 0.5343, 0.7928, 0.3284, 0.6501, 0.5881],\n",
            "        [0.8178, 0.1650, 0.0027, 0.0413, 0.8925, 0.1205, 0.4147, 0.8908]])\n"
          ],
          "name": "stdout"
        }
      ]
    },
    {
      "cell_type": "markdown",
      "metadata": {
        "id": "YEkZF82WRshk"
      },
      "source": [
        "**NumPy Arrays <--> Torch Tensors conversion**\n",
        "\n",
        "If the tensor is on the CPU (not in GPU), then both the tensor and the numpy array will share the same memory location. So, if we change one, it will also change the other.\n",
        "\n",
        "\n",
        "\n",
        "\n",
        "\n"
      ]
    },
    {
      "cell_type": "code",
      "metadata": {
        "colab": {
          "base_uri": "https://localhost:8080/"
        },
        "id": "4nwGZm-wRpDh",
        "outputId": "8250dd97-e2f3-4157-d210-5c44390ee366"
      },
      "source": [
        "# tensor to numpy array\n",
        "x = torch.rand(5)\n",
        "print(x) \n",
        "y = x.numpy()\n",
        "print(y)\n",
        "print(type(y))"
      ],
      "execution_count": null,
      "outputs": [
        {
          "output_type": "stream",
          "text": [
            "tensor([0.7771, 0.0048, 0.2180, 0.7193, 0.9271])\n",
            "[0.77709067 0.00478899 0.21803266 0.71933764 0.92708194]\n",
            "<class 'numpy.ndarray'>\n"
          ],
          "name": "stdout"
        }
      ]
    },
    {
      "cell_type": "code",
      "metadata": {
        "id": "5yay6a94SHao",
        "colab": {
          "base_uri": "https://localhost:8080/"
        },
        "outputId": "5d5607c1-8608-4cb1-d45d-eec891952fbc"
      },
      "source": [
        "# numpy array to tensor\n",
        "x = np.random.rand(5)\n",
        "print(x)\n",
        "y = torch.from_numpy(x)\n",
        "print(y)\n",
        "print(type(y))"
      ],
      "execution_count": null,
      "outputs": [
        {
          "output_type": "stream",
          "text": [
            "[0.51754174 0.84550857 0.69674483 0.13179101 0.52737415]\n",
            "tensor([0.5175, 0.8455, 0.6967, 0.1318, 0.5274], dtype=torch.float64)\n",
            "<class 'torch.Tensor'>\n"
          ],
          "name": "stdout"
        }
      ]
    },
    {
      "cell_type": "markdown",
      "metadata": {
        "id": "kMwj3ctwEZIZ"
      },
      "source": [
        "### **Gradient Calculation with Autograd**"
      ]
    },
    {
      "cell_type": "code",
      "metadata": {
        "colab": {
          "base_uri": "https://localhost:8080/"
        },
        "id": "Empwx_9Lk_4A",
        "outputId": "5d04b0c3-4654-40db-9c12-4a89416b134e"
      },
      "source": [
        "# calculate the gradient of some function with respect to tensor 'x'\n",
        "x = torch.randn(3, requires_grad=True)\n",
        "print(x)"
      ],
      "execution_count": null,
      "outputs": [
        {
          "output_type": "stream",
          "text": [
            "tensor([1.0306, 2.3976, 0.3998], requires_grad=True)\n"
          ],
          "name": "stdout"
        }
      ]
    },
    {
      "cell_type": "markdown",
      "metadata": {
        "id": "RJWmhILhlARa"
      },
      "source": [
        "![image.png](data:image/png;base64,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)\n",
        "\n",
        "For each operation, we have inputs and outputs. Here, the operation is **addition (+)**, the inputs are **x** and **2** and the output is **y**.\n",
        "\n",
        "First, we do a **Forward-pass** which calculates the output **y**. \n",
        "PyTorch will then automatically create and store a function which will be used in **Backpropagation** in order to get the gradients.\n",
        "\n",
        "So here in the image, **y** has an attribute **grad_fn** which points to a gradient function **Add Backward**. This function will calculate the gradients of **y** with respect to **x** in the **Backward-pass**. "
      ]
    },
    {
      "cell_type": "code",
      "metadata": {
        "colab": {
          "base_uri": "https://localhost:8080/"
        },
        "id": "-NyQoLi5jqoU",
        "outputId": "7234d932-a283-453c-8597-b0f5c7c2f8aa"
      },
      "source": [
        "# some basic operations with tensors\n",
        "y = x+2\n",
        "print(y)\n",
        "\n",
        "z = y*y*2\n",
        "print(z)\n",
        "\n",
        "# grad can be implicitly created only for scalar outputs\n",
        "z = z.mean()\n",
        "print(z)"
      ],
      "execution_count": null,
      "outputs": [
        {
          "output_type": "stream",
          "text": [
            "tensor([3.0306, 4.3976, 2.3998], grad_fn=<AddBackward0>)\n",
            "tensor([18.3689, 38.6779, 11.5177], grad_fn=<MulBackward0>)\n",
            "tensor(22.8548, grad_fn=<MeanBackward0>)\n"
          ],
          "name": "stdout"
        }
      ]
    },
    {
      "cell_type": "code",
      "metadata": {
        "colab": {
          "base_uri": "https://localhost:8080/"
        },
        "id": "TjBf9BYmsovp",
        "outputId": "91725637-3ba6-4ea5-8538-99bf599e7cb2"
      },
      "source": [
        "# calculate gradients\n",
        "z.backward() #dz/dx (gradient of z with respect to x)\n",
        "print(x.grad) # gradients are stored in 'grad' attribute"
      ],
      "execution_count": null,
      "outputs": [
        {
          "output_type": "stream",
          "text": [
            "tensor([4.0408, 5.8635, 3.1997])\n"
          ],
          "name": "stdout"
        }
      ]
    },
    {
      "cell_type": "markdown",
      "metadata": {
        "id": "vG28av0TL0zH"
      },
      "source": [
        "Whenever we call the **backward()** function, the gradients for this tensor will be stored into the **.grad** attribute.\n",
        "This attribute actually creates a **Vector Jacobian Product** in the background to get the gradients. \n",
        "\n",
        "![image.png](data:image/png;base64,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)\n",
        "\n",
        "As shown in the image, **J** stands for the **Jacobian Matrix** containing the partial derivaties such as **dz/dx**, which is then multiplied with a gradient vector **v**. Thus, we get the final gradients **J.v**. "
      ]
    },
    {
      "cell_type": "code",
      "metadata": {
        "colab": {
          "base_uri": "https://localhost:8080/"
        },
        "id": "oKUFtdILtHyX",
        "outputId": "e441e444-9cc1-4198-d030-4772c159d8c9"
      },
      "source": [
        "# vector jacobian product\n",
        "y = x+2\n",
        "z = y*y*2\n",
        "print(z)\n",
        "\n",
        "v = torch.tensor([0.1, 1.0, 0.001], dtype=torch.float32)\n",
        "z.backward(v)\n",
        "print(x.grad)"
      ],
      "execution_count": null,
      "outputs": [
        {
          "output_type": "stream",
          "text": [
            "tensor([18.3689, 38.6779, 11.5177], grad_fn=<MulBackward0>)\n",
            "tensor([ 5.2530, 23.4539,  3.2093])\n"
          ],
          "name": "stdout"
        }
      ]
    },
    {
      "cell_type": "markdown",
      "metadata": {
        "id": "r6EIF0mKv5oS"
      },
      "source": [
        "**Prevent PyTorch from tracking the history**\n",
        "\n",
        "There are three options to calculate the **grad_fn** function and prevent the tracking history.\n",
        "\n",
        "1.   **x.requires_grad_(False)** → whenever PyTorch function has a trailing underscore, it means it will modify the variable in place.\n",
        "\n",
        "2.   **x.detach()** → this will create a new vector/tensor with the same values, but it doesn't require the gradients.\n",
        "\n",
        "3.   **with torch.no_grad()**"
      ]
    },
    {
      "cell_type": "code",
      "metadata": {
        "colab": {
          "base_uri": "https://localhost:8080/"
        },
        "id": "nzuBVTYRu1C0",
        "outputId": "52c8cb00-1b5d-4c86-e1ad-85917926c60e"
      },
      "source": [
        "# option 1\n",
        "print(x)\n",
        "x.requires_grad_(False)\n",
        "print(x)"
      ],
      "execution_count": null,
      "outputs": [
        {
          "output_type": "stream",
          "text": [
            "tensor([1.0306, 2.3976, 0.3998], requires_grad=True)\n",
            "tensor([1.0306, 2.3976, 0.3998])\n"
          ],
          "name": "stdout"
        }
      ]
    },
    {
      "cell_type": "code",
      "metadata": {
        "colab": {
          "base_uri": "https://localhost:8080/"
        },
        "id": "RA2_XvnQwgou",
        "outputId": "9012e583-0f79-44ba-b3d9-f88082487330"
      },
      "source": [
        "# option 2\n",
        "y = x.detach()\n",
        "print(y)"
      ],
      "execution_count": null,
      "outputs": [
        {
          "output_type": "stream",
          "text": [
            "tensor([1.0306, 2.3976, 0.3998])\n"
          ],
          "name": "stdout"
        }
      ]
    },
    {
      "cell_type": "code",
      "metadata": {
        "colab": {
          "base_uri": "https://localhost:8080/"
        },
        "id": "_sankPyqx8oV",
        "outputId": "f269a6b7-6062-4115-b29d-91c12989cada"
      },
      "source": [
        "# option 3\n",
        "with torch.no_grad():\n",
        "  y = x+2\n",
        "  print(y)"
      ],
      "execution_count": null,
      "outputs": [
        {
          "output_type": "stream",
          "text": [
            "tensor([3.0306, 4.3976, 2.3998])\n"
          ],
          "name": "stdout"
        }
      ]
    },
    {
      "cell_type": "markdown",
      "metadata": {
        "id": "RTkLtZNMLbcM"
      },
      "source": [
        "The **backward()** function stores the cummulative sum in the **.grad** attribute. Thus, the weights and gradients become incorrect after each iteration. So, before the next iteration of the optimization step, we have to **empty** the gradients to make the gradients correct."
      ]
    },
    {
      "cell_type": "code",
      "metadata": {
        "colab": {
          "base_uri": "https://localhost:8080/"
        },
        "id": "GAyCc4fhyF3b",
        "outputId": "c5b6b758-a8a9-437d-a0c7-3a2701fc65d2"
      },
      "source": [
        "weights = torch.ones(4, requires_grad=True)\n",
        "\n",
        "for epoch in range(5):\n",
        "  model_output = (weights*3).sum()\n",
        "\n",
        "  model_output.backward()\n",
        "  print(weights.grad)\n",
        "\n",
        "  weights.grad.zero_()"
      ],
      "execution_count": null,
      "outputs": [
        {
          "output_type": "stream",
          "text": [
            "tensor([3., 3., 3., 3.])\n",
            "tensor([3., 3., 3., 3.])\n",
            "tensor([3., 3., 3., 3.])\n",
            "tensor([3., 3., 3., 3.])\n",
            "tensor([3., 3., 3., 3.])\n"
          ],
          "name": "stdout"
        }
      ]
    },
    {
      "cell_type": "markdown",
      "metadata": {
        "id": "ESZGrg2fStxy"
      },
      "source": [
        "### **Backpropagation Algorithm**\n"
      ]
    },
    {
      "cell_type": "code",
      "metadata": {
        "id": "5VowZggUTFsY",
        "colab": {
          "base_uri": "https://localhost:8080/"
        },
        "outputId": "f010c5e0-60c2-4915-bfb5-563aca4016b5"
      },
      "source": [
        "x = torch.tensor(1.0)\n",
        "y = torch.tensor(2.0)\n",
        "w = torch.tensor(1.0, requires_grad=True)\n",
        "\n",
        "# forward pass\n",
        "y_hat = w * x\n",
        "loss = (y_hat - y)**2\n",
        "print(loss)\n",
        "\n",
        "# backward pass\n",
        "loss.backward()\n",
        "print(w.grad)\n",
        "\n",
        "## update weights\n",
        "## next forward and backward pass"
      ],
      "execution_count": null,
      "outputs": [
        {
          "output_type": "stream",
          "text": [
            "tensor(1., grad_fn=<PowBackward0>)\n",
            "tensor(-2.)\n"
          ],
          "name": "stdout"
        }
      ]
    },
    {
      "cell_type": "markdown",
      "metadata": {
        "id": "a1H7_csIE-2u"
      },
      "source": [
        "### **Gradient Descent with Autograd and Backpropagation**\n",
        "\n",
        "**STEP 1**\n",
        "\n",
        "Here, we will implement **Linear Regression** from scratch where we will do every step manually. First of all, we will implement the equations to calculate the model prediction and the loss function. Then, a numerical computation of the gradients and implement the formula. Finally, we will implement Gradient Descent algorithm to optimize our parameters.\n",
        "\n",
        "1.   Prediction: Manually\n",
        "2.   Gradients Computation: Manually\n",
        "3.   Loss Computation: Manually\n",
        "4.   Parameter updates: Manually\n",
        "\n"
      ]
    },
    {
      "cell_type": "code",
      "metadata": {
        "id": "ivCeJ_X9gmLh",
        "colab": {
          "base_uri": "https://localhost:8080/"
        },
        "outputId": "f9ccc767-46e6-42b2-c7a5-6329d7984952"
      },
      "source": [
        "import numpy as np \n",
        "\n",
        "# training samples\n",
        "X = np.array([1, 2, 3, 4], dtype=np.float32)\n",
        "Y = np.array([2, 4, 6, 8], dtype=np.float32)\n",
        "\n",
        "# initialize weights\n",
        "w = 0.0 \n",
        "\n",
        "# model prediction\n",
        "def forward(x):\n",
        "  return w * x\n",
        "\n",
        "# loss = MSE\n",
        "def loss(y, y_pred):\n",
        "  return ((y_pred - y)**2).mean()\n",
        "\n",
        "# gradient\n",
        "# MSE = 1 / n * (w*x - y)**2\n",
        "# dJ/dw = 1 / n 2x (w*x - y)\n",
        "def gradient(x, y, y_pred):\n",
        "  return np.dot(2*x, y_pred-y).mean()\n",
        "\n",
        "print(f'Prediction before training: f(5) = {forward(5):.3f}')\n",
        "\n",
        "# Training\n",
        "learning_rate = 0.01\n",
        "n_iters = 20\n",
        "\n",
        "for epoch in range(n_iters):\n",
        "  # prediction = forward pass\n",
        "  y_pred = forward(X)\n",
        "\n",
        "  # loss\n",
        "  l = loss(Y, y_pred)\n",
        "\n",
        "  # gradients\n",
        "  dw = gradient(X, Y, y_pred)\n",
        "\n",
        "  # update weights\n",
        "  w -= learning_rate * dw\n",
        "\n",
        "  # print every second step\n",
        "  if epoch % 2 == 0: \n",
        "    print(f'epoch {epoch+1}: w = {w:.3f}, loss = {l:.8f}')\n",
        "\n",
        "print(f'Prediction after training: f(5) = {forward(5):.3f}')"
      ],
      "execution_count": null,
      "outputs": [
        {
          "output_type": "stream",
          "text": [
            "Prediction before training: f(5) = 0.000\n",
            "epoch 1: w = 1.200, loss = 30.00000000\n",
            "epoch 3: w = 1.872, loss = 0.76800019\n",
            "epoch 5: w = 1.980, loss = 0.01966083\n",
            "epoch 7: w = 1.997, loss = 0.00050331\n",
            "epoch 9: w = 1.999, loss = 0.00001288\n",
            "epoch 11: w = 2.000, loss = 0.00000033\n",
            "epoch 13: w = 2.000, loss = 0.00000001\n",
            "epoch 15: w = 2.000, loss = 0.00000000\n",
            "epoch 17: w = 2.000, loss = 0.00000000\n",
            "epoch 19: w = 2.000, loss = 0.00000000\n",
            "Prediction after training: f(5) = 10.000\n"
          ],
          "name": "stdout"
        }
      ]
    },
    {
      "cell_type": "markdown",
      "metadata": {
        "id": "l8vfKArLIyOl"
      },
      "source": [
        "**STEP 2**\n",
        "\n",
        "In this step, we will replace the manually computed gradients with the automatic backpropagation algorithm from PyTorch.\n",
        "\n",
        "1.   Prediction: Manually\n",
        "2.   Gradients Computation: **Autograd**\n",
        "3.   Loss Computation: Manually\n",
        "4.   Parameter updates: Manually"
      ]
    },
    {
      "cell_type": "code",
      "metadata": {
        "colab": {
          "base_uri": "https://localhost:8080/"
        },
        "id": "ySmiZKl7JE8D",
        "outputId": "71831689-e4cf-4633-826f-f5bba8d4e0c0"
      },
      "source": [
        "import torch\n",
        "\n",
        "# training samples\n",
        "X = torch.tensor([1, 2, 3, 4], dtype=torch.float32)\n",
        "Y = torch.tensor([2, 4, 6, 8], dtype=torch.float32)\n",
        "\n",
        "# initialize weights\n",
        "w = torch.tensor(0.0, dtype=torch.float32, requires_grad=True)\n",
        "\n",
        "# model prediction\n",
        "def forward(x):\n",
        "  return w * x\n",
        "\n",
        "# loss = MSE\n",
        "def loss(y, y_pred):\n",
        "  return ((y_pred - y)**2).mean()\n",
        "\n",
        "print(f'Prediction before training: f(5) = {forward(5):.3f}')\n",
        "\n",
        "# Training\n",
        "learning_rate = 0.01\n",
        "n_iters = 100\n",
        "\n",
        "for epoch in range(n_iters):\n",
        "  # prediction = forward pass\n",
        "  y_pred = forward(X)\n",
        "\n",
        "  # loss\n",
        "  l = loss(Y, y_pred)\n",
        "\n",
        "  # gradients = backward pass\n",
        "  l.backward() #dl/dw\n",
        "\n",
        "  # update weights\n",
        "  with torch.no_grad():\n",
        "    w -= learning_rate * w.grad\n",
        "  \n",
        "  # zero gradients\n",
        "  w.grad.zero_()\n",
        "\n",
        "  # print every second step\n",
        "  if epoch % 10 == 0: \n",
        "    print(f'epoch {epoch+1}: w = {w:.3f}, loss = {l:.8f}')\n",
        "\n",
        "print(f'Prediction after training: f(5) = {forward(5):.3f}')"
      ],
      "execution_count": null,
      "outputs": [
        {
          "output_type": "stream",
          "text": [
            "Prediction before training: f(5) = 0.000\n",
            "epoch 1: w = 0.300, loss = 30.00000000\n",
            "epoch 11: w = 1.665, loss = 1.16278565\n",
            "epoch 21: w = 1.934, loss = 0.04506890\n",
            "epoch 31: w = 1.987, loss = 0.00174685\n",
            "epoch 41: w = 1.997, loss = 0.00006770\n",
            "epoch 51: w = 1.999, loss = 0.00000262\n",
            "epoch 61: w = 2.000, loss = 0.00000010\n",
            "epoch 71: w = 2.000, loss = 0.00000000\n",
            "epoch 81: w = 2.000, loss = 0.00000000\n",
            "epoch 91: w = 2.000, loss = 0.00000000\n",
            "Prediction after training: f(5) = 10.000\n"
          ],
          "name": "stdout"
        }
      ]
    },
    {
      "cell_type": "markdown",
      "metadata": {
        "id": "_lHl2OUkdC2k"
      },
      "source": [
        "**STEP 3**\n",
        "\n",
        "In this step, we will replace the manually computed loss and parameter updates with the **Loss** and **Optimizer** classes of PyTorch.\n",
        "\n",
        "1.   Prediction: Manually\n",
        "2.   Gradients Computation: **Autograd**\n",
        "3.   Loss Computation: **PyTorch Loss**\n",
        "4.   Parameter updates: **PyTorch Optimizer**\n",
        "\n",
        "**General Training Pipeline in PyTorch**\n",
        "1.   Design model (input and output size)\n",
        "2.   Construct loss and optimizer\n",
        "3.   Training Loop\n",
        "      *   Forward pass: compute prediction\n",
        "      *   Backward pass: gradients\n",
        "      *   Update weights\n",
        "\n",
        "\n",
        "\n",
        "\n",
        "\n",
        "\n"
      ]
    },
    {
      "cell_type": "code",
      "metadata": {
        "colab": {
          "base_uri": "https://localhost:8080/"
        },
        "id": "zPYnebHsN1I2",
        "outputId": "9378d5c8-0afb-470e-8db9-6f1aa041e853"
      },
      "source": [
        "import torch\n",
        "import torch.nn as nn\n",
        "\n",
        "# training samples\n",
        "X = torch.tensor([1, 2, 3, 4], dtype=torch.float32)\n",
        "Y = torch.tensor([2, 4, 6, 8], dtype=torch.float32)\n",
        "\n",
        "# initialize weights\n",
        "w = torch.tensor(0.0, dtype=torch.float32, requires_grad=True)\n",
        "\n",
        "# model prediction\n",
        "def forward(x):\n",
        "  return w * x\n",
        "\n",
        "print(f'Prediction before training: f(5) = {forward(5):.3f}')\n",
        "\n",
        "# Training\n",
        "learning_rate = 0.01\n",
        "n_iters = 100\n",
        "\n",
        "loss = nn.MSELoss()\n",
        "optimizer = torch.optim.SGD([w], lr=learning_rate)\n",
        "\n",
        "for epoch in range(n_iters):\n",
        "  # prediction = forward pass\n",
        "  y_pred = forward(X)\n",
        "\n",
        "  # loss\n",
        "  l = loss(Y, y_pred)\n",
        "\n",
        "  # gradients = backward pass\n",
        "  l.backward() #dl/dw\n",
        "\n",
        "  # update weights\n",
        "  optimizer.step()\n",
        "  \n",
        "  # zero gradients\n",
        "  optimizer.zero_grad()\n",
        "\n",
        "  # print every second step\n",
        "  if epoch % 10 == 0: \n",
        "    print(f'epoch {epoch+1}: w = {w:.3f}, loss = {l:.8f}')\n",
        "\n",
        "print(f'Prediction after training: f(5) = {forward(5):.3f}')"
      ],
      "execution_count": null,
      "outputs": [
        {
          "output_type": "stream",
          "text": [
            "Prediction before training: f(5) = 0.000\n",
            "epoch 1: w = 0.300, loss = 30.00000000\n",
            "epoch 11: w = 1.665, loss = 1.16278565\n",
            "epoch 21: w = 1.934, loss = 0.04506890\n",
            "epoch 31: w = 1.987, loss = 0.00174685\n",
            "epoch 41: w = 1.997, loss = 0.00006770\n",
            "epoch 51: w = 1.999, loss = 0.00000262\n",
            "epoch 61: w = 2.000, loss = 0.00000010\n",
            "epoch 71: w = 2.000, loss = 0.00000000\n",
            "epoch 81: w = 2.000, loss = 0.00000000\n",
            "epoch 91: w = 2.000, loss = 0.00000000\n",
            "Prediction after training: f(5) = 10.000\n"
          ],
          "name": "stdout"
        }
      ]
    },
    {
      "cell_type": "markdown",
      "metadata": {
        "id": "bCx5iITVf3pK"
      },
      "source": [
        "**STEP 4**\n",
        "\n",
        "In the last step, we will replace the manually computed prediction model by implementing a **PyTorch Model**.\n",
        "\n",
        "1.   Prediction: **PyTorch Model**\n",
        "2.   Gradients Computation: Autograd\n",
        "3.   Loss Computation: PyTorch Loss\n",
        "4.   Parameter updates: PyTorch Optimizer"
      ]
    },
    {
      "cell_type": "code",
      "metadata": {
        "colab": {
          "base_uri": "https://localhost:8080/"
        },
        "id": "SZDMeKqDgIfz",
        "outputId": "520daa6b-31b4-442c-d754-57e252b99c05"
      },
      "source": [
        "import torch\n",
        "import torch.nn as nn\n",
        "\n",
        "# training samples\n",
        "X = torch.tensor([[1],[2], [3], [4]], dtype=torch.float32)\n",
        "Y = torch.tensor([[2], [4], [6], [8]], dtype=torch.float32)\n",
        "\n",
        "X_test = torch.tensor([5], dtype=torch.float32)\n",
        "\n",
        "n_samples, n_features = X.shape\n",
        "print(n_samples, n_features)\n",
        "\n",
        "input_size = n_features\n",
        "output_size = n_features\n",
        "\n",
        "model = nn.Linear(input_size, output_size)\n",
        "\n",
        "print(f'Prediction before training: f(5) = {model(X_test).item():.3f}')\n",
        "\n",
        "# Training\n",
        "learning_rate = 0.01\n",
        "n_iters = 100\n",
        "\n",
        "loss = nn.MSELoss()\n",
        "optimizer = torch.optim.SGD(model.parameters(), lr=learning_rate)\n",
        "\n",
        "for epoch in range(n_iters):\n",
        "  # prediction = forward pass\n",
        "  y_pred = model(X)\n",
        "\n",
        "  # loss\n",
        "  l = loss(Y, y_pred)\n",
        "\n",
        "  # gradients = backward pass\n",
        "  l.backward() #dl/dw\n",
        "\n",
        "  # update weights\n",
        "  optimizer.step()\n",
        "  \n",
        "  # zero gradients\n",
        "  optimizer.zero_grad()\n",
        "\n",
        "  # print every second step\n",
        "  if epoch % 10 == 0: \n",
        "    [w, b] = model.parameters()\n",
        "    print(f'epoch {epoch+1}: w = {w[0][0].item():.3f}, loss = {l:.8f}')\n",
        "\n",
        "print(f'Prediction after training: f(5) = {model(X_test).item():.3f}')"
      ],
      "execution_count": null,
      "outputs": [
        {
          "output_type": "stream",
          "text": [
            "4 1\n",
            "Prediction before training: f(5) = -4.015\n",
            "epoch 1: w = -0.180, loss = 64.33626556\n",
            "epoch 11: w = 1.656, loss = 1.66463494\n",
            "epoch 21: w = 1.952, loss = 0.04316445\n",
            "epoch 31: w = 1.999, loss = 0.00120749\n",
            "epoch 41: w = 2.006, loss = 0.00011668\n",
            "epoch 51: w = 2.007, loss = 0.00008348\n",
            "epoch 61: w = 2.007, loss = 0.00007794\n",
            "epoch 71: w = 2.007, loss = 0.00007339\n",
            "epoch 81: w = 2.007, loss = 0.00006912\n",
            "epoch 91: w = 2.007, loss = 0.00006510\n",
            "Prediction after training: f(5) = 10.013\n"
          ],
          "name": "stdout"
        }
      ]
    },
    {
      "cell_type": "markdown",
      "metadata": {
        "id": "siQYQGId4PQW"
      },
      "source": [
        "**STEP 4**\n",
        "\n",
        "Another approach using a custom model."
      ]
    },
    {
      "cell_type": "code",
      "metadata": {
        "colab": {
          "base_uri": "https://localhost:8080/"
        },
        "id": "gaRXc2xJ0YJc",
        "outputId": "7adf4030-8b4e-48c0-9776-936abaa32c0f"
      },
      "source": [
        "import torch\n",
        "import torch.nn as nn\n",
        "\n",
        "# training samples\n",
        "X = torch.tensor([[1],[2], [3], [4]], dtype=torch.float32)\n",
        "Y = torch.tensor([[2], [4], [6], [8]], dtype=torch.float32)\n",
        "\n",
        "X_test = torch.tensor([5], dtype=torch.float32)\n",
        "\n",
        "n_samples, n_features = X.shape\n",
        "print(n_samples, n_features)\n",
        "\n",
        "input_size = n_features\n",
        "output_size = n_features\n",
        "\n",
        "class LinearRegression(nn.Module):\n",
        "  def __init__(self, input_dim, output_dim):\n",
        "    super(LinearRegression, self).__init__()\n",
        "    #define layers\n",
        "    self.lin = nn.Linear(input_dim, output_dim)\n",
        "\n",
        "  def forward(self, x):\n",
        "    return self.lin(x)\n",
        "\n",
        "model = LinearRegression(input_size, output_size)\n",
        "\n",
        "print(f'Prediction before training: f(5) = {model(X_test).item():.3f}')\n",
        "\n",
        "# Training\n",
        "learning_rate = 0.01\n",
        "n_iters = 100\n",
        "\n",
        "loss = nn.MSELoss()\n",
        "optimizer = torch.optim.SGD(model.parameters(), lr=learning_rate)\n",
        "\n",
        "for epoch in range(n_iters):\n",
        "  # prediction = forward pass\n",
        "  y_pred = model(X)\n",
        "\n",
        "  # loss\n",
        "  l = loss(Y, y_pred)\n",
        "\n",
        "  # gradients = backward pass\n",
        "  l.backward() #dl/dw\n",
        "\n",
        "  # update weights\n",
        "  optimizer.step()\n",
        "  \n",
        "  # zero gradients\n",
        "  optimizer.zero_grad()\n",
        "\n",
        "  # print every second step\n",
        "  if epoch % 10 == 0: \n",
        "    [w, b] = model.parameters()\n",
        "    print(f'epoch {epoch+1}: w = {w[0][0].item():.3f}, loss = {l:.8f}')\n",
        "\n",
        "print(f'Prediction after training: f(5) = {model(X_test).item():.3f}')"
      ],
      "execution_count": null,
      "outputs": [
        {
          "output_type": "stream",
          "text": [
            "4 1\n",
            "Prediction before training: f(5) = -4.821\n",
            "epoch 1: w = -0.322, loss = 71.46357727\n",
            "epoch 11: w = 1.615, loss = 1.84922242\n",
            "epoch 21: w = 1.926, loss = 0.04811661\n",
            "epoch 31: w = 1.977, loss = 0.00150180\n",
            "epoch 41: w = 1.985, loss = 0.00028079\n",
            "epoch 51: w = 1.987, loss = 0.00023512\n",
            "epoch 61: w = 1.988, loss = 0.00022068\n",
            "epoch 71: w = 1.988, loss = 0.00020781\n",
            "epoch 81: w = 1.988, loss = 0.00019572\n",
            "epoch 91: w = 1.989, loss = 0.00018432\n",
            "Prediction after training: f(5) = 9.977\n"
          ],
          "name": "stdout"
        }
      ]
    }
  ]
}