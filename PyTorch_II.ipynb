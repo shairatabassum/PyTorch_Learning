{
  "nbformat": 4,
  "nbformat_minor": 0,
  "metadata": {
    "colab": {
      "name": "PyTorch II.ipynb",
      "provenance": [],
      "toc_visible": true,
      "authorship_tag": "ABX9TyN2GpO1aENgtEfYuuoRNbVX",
      "include_colab_link": true
    },
    "kernelspec": {
      "name": "python3",
      "display_name": "Python 3"
    },
    "language_info": {
      "name": "python"
    }
  },
  "cells": [
    {
      "cell_type": "markdown",
      "metadata": {
        "id": "view-in-github",
        "colab_type": "text"
      },
      "source": [
        "<a href=\"https://colab.research.google.com/github/shairatabassum/PyTorch_Learning/blob/main/PyTorch_II.ipynb\" target=\"_parent\"><img src=\"https://colab.research.google.com/assets/colab-badge.svg\" alt=\"Open In Colab\"/></a>"
      ]
    },
    {
      "cell_type": "markdown",
      "metadata": {
        "id": "eom708rxHbqz"
      },
      "source": [
        "# **Deep Learning with PyTorch** (part II)\n",
        "A PyTorch notebook that I created while learning PyTorch through a series of tutorials on YouTube.\n",
        "\n",
        "Source: [PyTorch Tutorials - Complete Beginner Course](https://www.youtube.com/watch?v=EMXfZB8FVUA&list=PLqnslRFeH2UrcDBWF5mfPGpqQDSta6VK4)\n",
        "\n",
        "Dataset: [Wine](https://github.com/python-engineer/pytorchTutorial/blob/master/data/wine/wine.csv)\n",
        "\n",
        "> **Table of contents**\n",
        "> *  Linear Regression\n",
        "> *  Logistic Regression\n",
        "> *  Dataset and DataLoader\n",
        "> *  Dataset Transforms\n",
        "> *  Softmax Function and Cross-Entropy Loss\n",
        "> *  A Neural Network Example\n",
        "> *  Activation Functions"
      ]
    },
    {
      "cell_type": "markdown",
      "metadata": {
        "id": "91THTJIJhAIj"
      },
      "source": [
        "### **Linear Regression**"
      ]
    },
    {
      "cell_type": "code",
      "metadata": {
        "id": "DcX7wFD0HY8U"
      },
      "source": [
        "# import libraries\n",
        "import torch\n",
        "import torch.nn as nn\n",
        "import numpy as np\n",
        "from sklearn import datasets\n",
        "import matplotlib.pyplot as plt"
      ],
      "execution_count": null,
      "outputs": []
    },
    {
      "cell_type": "code",
      "metadata": {
        "id": "GaroImRJgsFZ"
      },
      "source": [
        "# prepare data\n",
        "X_numpy, y_numpy = datasets.make_regression(n_samples=100, n_features=1, noise=20, random_state=1)\n",
        "\n",
        "# convert into torch tensors\n",
        "X = torch.from_numpy(X_numpy.astype(np.float32))\n",
        "y = torch.from_numpy(y_numpy.astype(np.float32))\n",
        "\n",
        "#reshape y tensor\n",
        "y = y.view(y.shape[0], 1)\n",
        "\n",
        "n_samples, n_features = X.shape"
      ],
      "execution_count": null,
      "outputs": []
    },
    {
      "cell_type": "code",
      "metadata": {
        "colab": {
          "base_uri": "https://localhost:8080/"
        },
        "id": "FzElbCP5rwD_",
        "outputId": "937ae236-8ae4-4278-a021-42f7afdcb5c7"
      },
      "source": [
        "# design the model\n",
        "input_size = n_features\n",
        "output_size = 1\n",
        "model = nn.Linear(input_size, output_size)\n",
        "\n",
        "# define the loss and optimizer\n",
        "learning_rate = 0.01\n",
        "criterion = nn.MSELoss() # mean square error loss\n",
        "optimizer = torch.optim.SGD(model.parameters(), lr=learning_rate) # stochastic gradient descent\n",
        "\n",
        "# training loop\n",
        "num_epochs = 100\n",
        "for epoch in range(num_epochs):\n",
        "  # forward pass and loss\n",
        "  y_pred = model(X)\n",
        "  loss = criterion(y_pred, y)\n",
        "\n",
        "  # backward pass\n",
        "  loss.backward()\n",
        "\n",
        "  # update weights\n",
        "  optimizer.step()\n",
        "  optimizer.zero_grad()\n",
        "\n",
        "  if((epoch+1) % 10 == 0):\n",
        "    print(f'epoch: {epoch+1}, loss = {loss.item():.4f}')"
      ],
      "execution_count": null,
      "outputs": [
        {
          "output_type": "stream",
          "text": [
            "epoch: 10, loss = 4372.7114\n",
            "epoch: 20, loss = 3262.1604\n",
            "epoch: 30, loss = 2458.8010\n",
            "epoch: 40, loss = 1877.0297\n",
            "epoch: 50, loss = 1455.3043\n",
            "epoch: 60, loss = 1149.3115\n",
            "epoch: 70, loss = 927.1013\n",
            "epoch: 80, loss = 765.6057\n",
            "epoch: 90, loss = 648.1499\n",
            "epoch: 100, loss = 562.6675\n"
          ],
          "name": "stdout"
        }
      ]
    },
    {
      "cell_type": "code",
      "metadata": {
        "colab": {
          "base_uri": "https://localhost:8080/",
          "height": 264
        },
        "id": "1lbB6RAGs3Tj",
        "outputId": "e4005608-462d-4064-c9c7-01edc256ed78"
      },
      "source": [
        "# plot\n",
        "pred = model(X).detach().numpy()\n",
        "plt.plot(X_numpy, y_numpy, 'ro')\n",
        "plt.plot(X_numpy, pred, 'b')\n",
        "plt.show()"
      ],
      "execution_count": null,
      "outputs": [
        {
          "output_type": "display_data",
          "data": {
            "image/png": "[encoded data removed]",
            "text/plain": [
              "<Figure size 432x288 with 1 Axes>"
            ]
          },
          "metadata": {
            "tags": [],
            "needs_background": "light"
          }
        }
      ]
    },
    {
      "cell_type": "markdown",
      "metadata": {
        "id": "DDmO97l8uRt3"
      },
      "source": [
        "### **Logistic Regression**"
      ]
    },
    {
      "cell_type": "code",
      "metadata": {
        "id": "Hs8z0kMHttrU"
      },
      "source": [
        "# import libraries\n",
        "import torch\n",
        "import torch.nn as nn\n",
        "import numpy as np\n",
        "from sklearn import datasets\n",
        "from sklearn.preprocessing import StandardScaler\n",
        "from sklearn.model_selection import train_test_split"
      ],
      "execution_count": null,
      "outputs": []
    },
    {
      "cell_type": "code",
      "metadata": {
        "colab": {
          "base_uri": "https://localhost:8080/"
        },
        "id": "JPy1tVUOvSgA",
        "outputId": "ed5d17a1-056e-4c30-cf31-b95b9c2b17a5"
      },
      "source": [
        "# prepare data (Breast Cancer Dataset from sklearn)\n",
        "bc = datasets.load_breast_cancer()\n",
        "X, y = bc.data, bc.target\n",
        "\n",
        "n_samples, n_features = X.shape\n",
        "print(n_samples, n_features)"
      ],
      "execution_count": null,
      "outputs": [
        {
          "output_type": "stream",
          "text": [
            "569 30\n"
          ],
          "name": "stdout"
        }
      ]
    },
    {
      "cell_type": "code",
      "metadata": {
        "id": "xVCH4QA4v2bC"
      },
      "source": [
        "# split dataset\n",
        "X_train, X_test, y_train, y_test = train_test_split(X, y, test_size=0.2, random_state=1234)\n",
        "\n",
        "# scale the features (it makes the features to have zero means and unit variance)\n",
        "sc = StandardScaler()\n",
        "X_train = sc.fit_transform(X_train)\n",
        "X_test = sc.transform(X_test)\n",
        "\n",
        "# convert into torch tensors\n",
        "X_train = torch.from_numpy(X_train.astype(np.float32))\n",
        "X_test = torch.from_numpy(X_test.astype(np.float32))\n",
        "y_train = torch.from_numpy(y_train.astype(np.float32))\n",
        "y_test = torch.from_numpy(y_test.astype(np.float32))\n",
        "\n",
        "# reshape y tensors\n",
        "y_train = y_train.view(y_train.shape[0], 1)\n",
        "y_test = y_test.view(y_test.shape[0], 1)"
      ],
      "execution_count": null,
      "outputs": []
    },
    {
      "cell_type": "code",
      "metadata": {
        "colab": {
          "base_uri": "https://localhost:8080/"
        },
        "id": "oh026AraxnGE",
        "outputId": "93ad7e97-23cd-4db5-ac7e-28b26964cf22"
      },
      "source": [
        "# design the model\n",
        "class LogisticRegression(nn.Module):\n",
        "\n",
        "  def __init__(self, n_input_features):\n",
        "    super(LogisticRegression, self).__init__()\n",
        "    self.linear = nn.Linear(n_input_features, 1)\n",
        "\n",
        "  def forward(self, x):\n",
        "    y_pred = torch.sigmoid(self.linear(x))\n",
        "    return y_pred\n",
        "\n",
        "model = LogisticRegression(n_features)\n",
        "\n",
        "# define the loss and optimizer\n",
        "learning_rate = 0.01\n",
        "criterion = nn.BCELoss() # binary cross entropy loss\n",
        "optimizer = torch.optim.SGD(model.parameters(), lr=learning_rate) # stochastic gradient descent\n",
        "\n",
        "# training loop\n",
        "num_epochs = 100\n",
        "for epoch in range(num_epochs):\n",
        "  # forward pass and loss\n",
        "  y_pred = model(X_train)\n",
        "  loss = criterion(y_pred, y_train)\n",
        "\n",
        "  # backward pass\n",
        "  loss.backward()\n",
        "\n",
        "  # update weights\n",
        "  optimizer.step()\n",
        "  optimizer.zero_grad()\n",
        "\n",
        "  if((epoch+1) % 10 == 0):\n",
        "    print(f'epoch: {epoch+1}, loss = {loss.item():.4f}')"
      ],
      "execution_count": null,
      "outputs": [
        {
          "output_type": "stream",
          "text": [
            "epoch: 10, loss = 0.6199\n",
            "epoch: 20, loss = 0.5016\n",
            "epoch: 30, loss = 0.4271\n",
            "epoch: 40, loss = 0.3759\n",
            "epoch: 50, loss = 0.3386\n",
            "epoch: 60, loss = 0.3101\n",
            "epoch: 70, loss = 0.2877\n",
            "epoch: 80, loss = 0.2694\n",
            "epoch: 90, loss = 0.2542\n",
            "epoch: 100, loss = 0.2414\n"
          ],
          "name": "stdout"
        }
      ]
    },
    {
      "cell_type": "code",
      "metadata": {
        "colab": {
          "base_uri": "https://localhost:8080/"
        },
        "id": "qks2Qk1gyqOS",
        "outputId": "67a9307a-97fd-4890-f0eb-a3a5e36986b7"
      },
      "source": [
        "# model evaluation\n",
        "with torch.no_grad():\n",
        "  y_pred = model(X_test)\n",
        "  y_pred_cls = y_pred.round() # convert class labels in 0 and 1\n",
        "  accuracy = y_pred_cls.eq(y_test).sum() / float(y_test.shape[0])\n",
        "  print(f'accuracy = {accuracy:.4f}')"
      ],
      "execution_count": null,
      "outputs": [
        {
          "output_type": "stream",
          "text": [
            "accuracy = 0.9211\n"
          ],
          "name": "stdout"
        }
      ]
    },
    {
      "cell_type": "markdown",
      "metadata": {
        "id": "vetpn8B2UrBx"
      },
      "source": [
        "### **Dataset and DataLoader**"
      ]
    },
    {
      "cell_type": "code",
      "metadata": {
        "id": "69ljnAma1m3W"
      },
      "source": [
        "# import libraries\n",
        "import torch\n",
        "import torchvision\n",
        "from torch.utils.data import Dataset, DataLoader\n",
        "import numpy as np\n",
        "import math"
      ],
      "execution_count": null,
      "outputs": []
    },
    {
      "cell_type": "code",
      "metadata": {
        "id": "cByOv3bgU-He"
      },
      "source": [
        "class WineDataset(Dataset):\n",
        "  def __init__(self):\n",
        "    # data loading\n",
        "    xy = np.loadtxt('wine.csv', delimiter=\",\", dtype=np.float32, skiprows=1)\n",
        "    self.x = torch.from_numpy(xy[:, 1:]) # all rows, all columns except the first one\n",
        "    self.y = torch.from_numpy(xy[:, [0]]) # all rows, only first column\n",
        "    self.n_samples = xy.shape[0]\n",
        "\n",
        "  def __getitem__(self, index):\n",
        "    # call dataset with an index\n",
        "    return self.x[index], self.y[index]\n",
        "\n",
        "  def __len__(self):\n",
        "    # call length of dataset\n",
        "    return self.n_samples"
      ],
      "execution_count": null,
      "outputs": []
    },
    {
      "cell_type": "code",
      "metadata": {
        "colab": {
          "base_uri": "https://localhost:8080/"
        },
        "id": "hl8G5np7gHAc",
        "outputId": "87a808da-1bf8-41ff-f62d-69400ebe91e8"
      },
      "source": [
        "# Dataset\n",
        "dataset = WineDataset()\n",
        "first_data = dataset[0] # first sample\n",
        "features, labels = first_data\n",
        "print(features, labels)"
      ],
      "execution_count": null,
      "outputs": [
        {
          "output_type": "stream",
          "text": [
            "tensor([1.4230e+01, 1.7100e+00, 2.4300e+00, 1.5600e+01, 1.2700e+02, 2.8000e+00,\n",
            "        3.0600e+00, 2.8000e-01, 2.2900e+00, 5.6400e+00, 1.0400e+00, 3.9200e+00,\n",
            "        1.0650e+03]) tensor([1.])\n"
          ],
          "name": "stdout"
        }
      ]
    },
    {
      "cell_type": "code",
      "metadata": {
        "colab": {
          "base_uri": "https://localhost:8080/"
        },
        "id": "ORr253lplFHd",
        "outputId": "0ec1ff76-05ce-40ad-ef92-54d8e5b2feeb"
      },
      "source": [
        "# DataLoader\n",
        "dataset = WineDataset()\n",
        "dataloader = DataLoader(dataset=dataset, batch_size=4, shuffle=True, num_workers=2)\n",
        "\n",
        "dataiter = iter(dataloader)\n",
        "data = dataiter.next()\n",
        "features, labels = data\n",
        "print(features, labels)"
      ],
      "execution_count": null,
      "outputs": [
        {
          "output_type": "stream",
          "text": [
            "tensor([[1.3870e+01, 1.9000e+00, 2.8000e+00, 1.9400e+01, 1.0700e+02, 2.9500e+00,\n",
            "         2.9700e+00, 3.7000e-01, 1.7600e+00, 4.5000e+00, 1.2500e+00, 3.4000e+00,\n",
            "         9.1500e+02],\n",
            "        [1.3490e+01, 3.5900e+00, 2.1900e+00, 1.9500e+01, 8.8000e+01, 1.6200e+00,\n",
            "         4.8000e-01, 5.8000e-01, 8.8000e-01, 5.7000e+00, 8.1000e-01, 1.8200e+00,\n",
            "         5.8000e+02],\n",
            "        [1.3840e+01, 4.1200e+00, 2.3800e+00, 1.9500e+01, 8.9000e+01, 1.8000e+00,\n",
            "         8.3000e-01, 4.8000e-01, 1.5600e+00, 9.0100e+00, 5.7000e-01, 1.6400e+00,\n",
            "         4.8000e+02],\n",
            "        [1.2850e+01, 3.2700e+00, 2.5800e+00, 2.2000e+01, 1.0600e+02, 1.6500e+00,\n",
            "         6.0000e-01, 6.0000e-01, 9.6000e-01, 5.5800e+00, 8.7000e-01, 2.1100e+00,\n",
            "         5.7000e+02]]) tensor([[1.],\n",
            "        [3.],\n",
            "        [3.],\n",
            "        [3.]])\n"
          ],
          "name": "stdout"
        }
      ]
    },
    {
      "cell_type": "code",
      "metadata": {
        "colab": {
          "base_uri": "https://localhost:8080/"
        },
        "id": "cH-QPs6dlHzg",
        "outputId": "bda3a265-c0ec-4d9b-f582-b1d19d000c24"
      },
      "source": [
        "# dummy training loop\n",
        "num_epochs = 2\n",
        "total_samples = len(dataset)\n",
        "n_iterations = math.ceil(total_samples/4)\n",
        "print(total_samples, n_iterations)\n",
        "\n",
        "for epoch in range(num_epochs):\n",
        "  for i, (inputs, labels) in enumerate(dataloader):\n",
        "    # forward pass\n",
        "    # backward pass\n",
        "    # update weights\n",
        "    if(i+1) % 5 == 0:\n",
        "      print(f'epoch {epoch+1}/{num_epochs}, step {i+1}/{n_iterations}, inputs {inputs.shape}')"
      ],
      "execution_count": null,
      "outputs": [
        {
          "output_type": "stream",
          "text": [
            "178 45\n",
            "epoch 1/2, step 5/45, inputs torch.Size([4, 13])\n",
            "epoch 1/2, step 10/45, inputs torch.Size([4, 13])\n",
            "epoch 1/2, step 15/45, inputs torch.Size([4, 13])\n",
            "epoch 1/2, step 20/45, inputs torch.Size([4, 13])\n",
            "epoch 1/2, step 25/45, inputs torch.Size([4, 13])\n",
            "epoch 1/2, step 30/45, inputs torch.Size([4, 13])\n",
            "epoch 1/2, step 35/45, inputs torch.Size([4, 13])\n",
            "epoch 1/2, step 40/45, inputs torch.Size([4, 13])\n",
            "epoch 1/2, step 45/45, inputs torch.Size([2, 13])\n",
            "epoch 2/2, step 5/45, inputs torch.Size([4, 13])\n",
            "epoch 2/2, step 10/45, inputs torch.Size([4, 13])\n",
            "epoch 2/2, step 15/45, inputs torch.Size([4, 13])\n",
            "epoch 2/2, step 20/45, inputs torch.Size([4, 13])\n",
            "epoch 2/2, step 25/45, inputs torch.Size([4, 13])\n",
            "epoch 2/2, step 30/45, inputs torch.Size([4, 13])\n",
            "epoch 2/2, step 35/45, inputs torch.Size([4, 13])\n",
            "epoch 2/2, step 40/45, inputs torch.Size([4, 13])\n",
            "epoch 2/2, step 45/45, inputs torch.Size([2, 13])\n"
          ],
          "name": "stdout"
        }
      ]
    },
    {
      "cell_type": "markdown",
      "metadata": {
        "id": "uq--nbZHrRYV"
      },
      "source": [
        "### **Dataset Transforms**\n",
        "Transforms can be applied to PIL imgaes, tensors, or custom data during creation of the Dataset. Complete list of built-in transforms:\n",
        "[torchvision.transforms](https://pytorch.org/vision/stable/transforms.html)\n",
        "\n",
        "**On Images:** CenterCrop, Grayscale, Pad, RandomAffine, RandomCrop, RandomHorizontalFlip, RandomRotation, Resize, Scale\n",
        "\n",
        "**On Tensors:** LinearTransformation, Normalize, RandomErasing\n",
        "\n",
        "**Conversion:** from tensor to ndarray (to PILImage), from numpy.ndarray to PILImage (to tensor)\n",
        "\n",
        "**Generic:** Use Lambda\n",
        "\n",
        "**Custom:** Write own class\n",
        "\n",
        "**Compose multiple Transforms:** \n",
        "```\n",
        "composed = transforms.Compose([Rescale(256), RandomCrop(224)])\n",
        "torchvision.transforms.ReScale(256)\n",
        "torchvision.transforms.ToTensor()\n",
        "```\n",
        "\n"
      ]
    },
    {
      "cell_type": "code",
      "metadata": {
        "colab": {
          "base_uri": "https://localhost:8080/"
        },
        "id": "a8N962skoPhX",
        "outputId": "71c9d52d-e3a0-4ac5-c8ee-7407d83ad3c7"
      },
      "source": [
        "# import libraries\n",
        "import torch\n",
        "import torchvision\n",
        "from torch.utils.data import Dataset, DataLoader\n",
        "import numpy as np\n",
        "import math\n",
        "\n",
        "class WineDataset(Dataset):\n",
        "  def __init__(self, transform=None):\n",
        "    # data loading\n",
        "    xy = np.loadtxt('wine.csv', delimiter=\",\", dtype=np.float32, skiprows=1)\n",
        "    self.n_samples = xy.shape[0]\n",
        "    self.x = xy[:, 1:] # all rows, all columns except the first one\n",
        "    self.y = xy[:, [0]] # all rows, only first column\n",
        "    self.transform = transform\n",
        "\n",
        "  def __getitem__(self, index):\n",
        "    # call dataset with an index\n",
        "    sample = self.x[index], self.y[index]\n",
        "    if self.transform:\n",
        "      sample = self.transform(sample)\n",
        "    return sample\n",
        "\n",
        "  def __len__(self):\n",
        "    # call length of dataset\n",
        "    return self.n_samples\n",
        "\n",
        "# custom transform\n",
        "class ToTensor:\n",
        "  def __call__(self, sample):\n",
        "    inputs, targets = sample\n",
        "    return torch.from_numpy(inputs), torch.from_numpy(targets)\n",
        "\n",
        "dataset = WineDataset(transform=ToTensor())\n",
        "first_data = dataset[0] # first sample\n",
        "features, labels = first_data\n",
        "print(features)\n",
        "print(type(features), type(labels))"
      ],
      "execution_count": null,
      "outputs": [
        {
          "output_type": "stream",
          "text": [
            "tensor([1.4230e+01, 1.7100e+00, 2.4300e+00, 1.5600e+01, 1.2700e+02, 2.8000e+00,\n",
            "        3.0600e+00, 2.8000e-01, 2.2900e+00, 5.6400e+00, 1.0400e+00, 3.9200e+00,\n",
            "        1.0650e+03])\n",
            "<class 'torch.Tensor'> <class 'torch.Tensor'>\n"
          ],
          "name": "stdout"
        }
      ]
    },
    {
      "cell_type": "code",
      "metadata": {
        "colab": {
          "base_uri": "https://localhost:8080/"
        },
        "id": "f7o3aOw3vE0N",
        "outputId": "e6f950a6-048a-4b2c-c518-72122caf7a24"
      },
      "source": [
        "# custom transform\n",
        "class MulTransform:\n",
        "  def __init__(self, factor):\n",
        "    self.factor = factor\n",
        "  \n",
        "  def __call__(self, sample):\n",
        "    inputs, target = sample\n",
        "    inputs *= self.factor\n",
        "    return inputs, target\n",
        "\n",
        "composed = torchvision.transforms.Compose([ToTensor(), MulTransform(4)])\n",
        "dataset = WineDataset(transform=composed)\n",
        "first_data = dataset[0] # first sample\n",
        "features, labels = first_data\n",
        "print(features)\n",
        "print(type(features), type(labels))"
      ],
      "execution_count": null,
      "outputs": [
        {
          "output_type": "stream",
          "text": [
            "tensor([5.6920e+01, 6.8400e+00, 9.7200e+00, 6.2400e+01, 5.0800e+02, 1.1200e+01,\n",
            "        1.2240e+01, 1.1200e+00, 9.1600e+00, 2.2560e+01, 4.1600e+00, 1.5680e+01,\n",
            "        4.2600e+03])\n",
            "<class 'torch.Tensor'> <class 'torch.Tensor'>\n"
          ],
          "name": "stdout"
        }
      ]
    },
    {
      "cell_type": "markdown",
      "metadata": {
        "id": "pDdU2f9W-0fw"
      },
      "source": [
        "### **Softmax Function and Cross-Entropy Loss**\n",
        "\n",
        "**Softmax function** applies an exponential function to each element and then normalizes it by dividing by the sum of all these exponentials. It basically squashes the output to be between 0 and 1."
      ]
    },
    {
      "cell_type": "code",
      "metadata": {
        "id": "gSlQMcYEwIgt",
        "colab": {
          "base_uri": "https://localhost:8080/"
        },
        "outputId": "6d8f5567-ab4e-4670-e7a4-4fcee498b784"
      },
      "source": [
        "import torch\n",
        "import torch.nn as nn\n",
        "import numpy as np\n",
        "\n",
        "def softmax(x):\n",
        "  return np.exp(x) / np.sum(np.exp(x), axis=0)\n",
        "\n",
        "# softmax in numpy\n",
        "x = np.array([2.0, 1.0, 0.1])\n",
        "outputs = softmax(x)\n",
        "print('softmax numpy:', outputs)\n",
        "\n",
        "# softmax in pytorch\n",
        "x = torch.tensor([2.0, 1.0, 0.1])\n",
        "outputs = torch.softmax(x, dim=0)\n",
        "print('softmax pytorch:', outputs)"
      ],
      "execution_count": null,
      "outputs": [
        {
          "output_type": "stream",
          "text": [
            "softmax numpy: [0.65900114 0.24243297 0.09856589]\n",
            "softmax pytorch: tensor([0.6590, 0.2424, 0.0986])\n"
          ],
          "name": "stdout"
        }
      ]
    },
    {
      "cell_type": "markdown",
      "metadata": {
        "id": "Z3kU7xhvAebQ"
      },
      "source": [
        "The **softmax function** can be combined with the **cross-entropy loss**. This measures the performance of the classification model whose output is a probability between 0 and 1. It can be used in multi-class problems.\n",
        "\n",
        "The loss increases as the predicted probability diverges from the actual level. So, the better is the prediction, the lower is the loss."
      ]
    },
    {
      "cell_type": "code",
      "metadata": {
        "colab": {
          "base_uri": "https://localhost:8080/"
        },
        "id": "dk5M755w_6Ma",
        "outputId": "4cc1917e-c001-4a31-9046-224a9e401bf3"
      },
      "source": [
        "# cross-entropy loss in numpy\n",
        "\n",
        "def cross_entropy(actual, predicted):\n",
        "  loss = -np.sum(actual * np.log(predicted))\n",
        "  return loss\n",
        "\n",
        "# y must be one-hot encoded\n",
        "Y = np.array([1, 0, 0])\n",
        "\n",
        "Y_pred_good = np.array([0.7, 0.2, 0.1])\n",
        "Y_pred_bad = np.array([0.1, 0.3, 0.6])\n",
        "l1 = cross_entropy(Y, Y_pred_good)\n",
        "l2 = cross_entropy(Y, Y_pred_bad)\n",
        "print(f'Loss1 numpy: {l1:.4f}')\n",
        "print(f'Loss1 numpy: {l2:.4f}')"
      ],
      "execution_count": null,
      "outputs": [
        {
          "output_type": "stream",
          "text": [
            "Loss1 numpy: 0.3567\n",
            "Loss1 numpy: 2.3026\n"
          ],
          "name": "stdout"
        }
      ]
    },
    {
      "cell_type": "markdown",
      "metadata": {
        "id": "NncqHqN1DUnl"
      },
      "source": [
        "**Things to consider when implementing Cross-entropy Loss in PyTorch:**\n",
        "\n",
        "*  **nn.CrossEntropyLoss** applies **nn.LogSoftmax** and **nn.NLLLoss** (negative log likelihood loss together. So, we should not implement softmax by ourselves in the last layer. \n",
        "*  **Y** must not be one-hot encoded, we have to put class labels here.\n",
        "*  **Y_pred** has raw scores (logits), so no Softmax!"
      ]
    },
    {
      "cell_type": "code",
      "metadata": {
        "colab": {
          "base_uri": "https://localhost:8080/"
        },
        "id": "5SvuQJDcB82W",
        "outputId": "13a456ec-9a67-4834-b1e0-b236ae82b715"
      },
      "source": [
        "# cross-entropy loss in pytorch\n",
        "loss = nn.CrossEntropyLoss()\n",
        "\n",
        "Y = torch.tensor([0])\n",
        "\n",
        "# nsamples x nclasses = 1 x 3\n",
        "Y_pred_good = torch.tensor([[2.0, 1.0, 0.1]])\n",
        "Y_pred_bad = torch.tensor([[0.5, 2.0, 0.3]])\n",
        "\n",
        "l1 = loss(Y_pred_good, Y)\n",
        "l2 = loss(Y_pred_bad, Y)\n",
        "\n",
        "print(l1.item())\n",
        "print(l2.item())\n",
        "\n",
        "# to get the actual values of predictions\n",
        "_, predictions1 = torch.max(Y_pred_good, 1)\n",
        "_, predictions2 = torch.max(Y_pred_bad, 1)\n",
        "print(predictions1)\n",
        "print(predictions2)"
      ],
      "execution_count": null,
      "outputs": [
        {
          "output_type": "stream",
          "text": [
            "0.4170299470424652\n",
            "1.840616226196289\n",
            "tensor([0])\n",
            "tensor([1])\n"
          ],
          "name": "stdout"
        }
      ]
    },
    {
      "cell_type": "code",
      "metadata": {
        "colab": {
          "base_uri": "https://localhost:8080/"
        },
        "id": "uAfvQHQZExie",
        "outputId": "e820b06a-b973-447d-888e-7fa5b0df4792"
      },
      "source": [
        "# loss in pytorch allows multiple classes\n",
        "\n",
        "# three possible classes\n",
        "Y = torch.tensor([2, 0, 1])\n",
        "\n",
        "# nsamples x nclasses = 3 x 3\n",
        "Y_pred_good = torch.tensor([[0.1, 1.0, 2.1], [2.0, 1.0, 0.1], [0.1, 3.0, 0.1]])\n",
        "Y_pred_bad = torch.tensor([[2.1, 1.0, 0.1], [0.1, 1.0, 2.1], [0.1, 3.0, 0.1]])\n",
        "\n",
        "l1 = loss(Y_pred_good, Y)\n",
        "l2 = loss(Y_pred_bad, Y)\n",
        "\n",
        "print(l1.item())\n",
        "print(l2.item())\n",
        "\n",
        "# to get the actual values of predictions\n",
        "_, predictions1 = torch.max(Y_pred_good, 1)\n",
        "_, predictions2 = torch.max(Y_pred_bad, 1)\n",
        "print(predictions1)\n",
        "print(predictions2)"
      ],
      "execution_count": null,
      "outputs": [
        {
          "output_type": "stream",
          "text": [
            "0.3018244206905365\n",
            "1.6241613626480103\n",
            "tensor([2, 0, 1])\n",
            "tensor([0, 2, 1])\n"
          ],
          "name": "stdout"
        }
      ]
    },
    {
      "cell_type": "markdown",
      "metadata": {
        "id": "Be2RxPlzMMCY"
      },
      "source": [
        "### **A Neural Network Example**"
      ]
    },
    {
      "cell_type": "code",
      "metadata": {
        "id": "D476yHk9G7KY"
      },
      "source": [
        "# multi class problem\n",
        "class NeuralNet2(nn.Module):\n",
        "  def __init__(self, input_size, hidden_size, num_classes):\n",
        "    super(NeuralNet2, self).__init__()\n",
        "    self.linear1 = nn.Linear(input_size, hidden_size)\n",
        "    self.relu = nn.ReLU()\n",
        "    self.linear2 = nn.Linear(hidden_size, num_classes)\n",
        "\n",
        "    def forward(self, x):\n",
        "      out = self.linear1(x)\n",
        "      out = self.relu(out)\n",
        "      out = self.linear2(out)\n",
        "      return outputs\n",
        "\n",
        "model = NeuralNet2(input_size=28*28, hidden_size=5, num_classes=3)\n",
        "criterion = nn.CrossEntropyLoss() # applies softmax"
      ],
      "execution_count": null,
      "outputs": []
    },
    {
      "cell_type": "code",
      "metadata": {
        "id": "eJo4KFWgNlOH"
      },
      "source": [
        "# binary classification\n",
        "class NeuralNet2(nn.Module):\n",
        "  def __init__(self, input_size, hidden_size):\n",
        "    super(NeuralNet2, self).__init__()\n",
        "    self.linear1 = nn.Linear(input_size, hidden_size)\n",
        "    self.relu = nn.ReLU()\n",
        "    self.linear2 = nn.Linear(hidden_size, 1)\n",
        "\n",
        "    def forward(self, x):\n",
        "      out = self.linear1(x)\n",
        "      out = self.relu(out)\n",
        "      out = self.linear2(out)\n",
        "      y_pred = torch.sigmoid(out)\n",
        "      return y_pred\n",
        "\n",
        "model = NeuralNet2(input_size=28*28, hidden_size=5)\n",
        "criterion = nn.BCELoss()"
      ],
      "execution_count": null,
      "outputs": []
    },
    {
      "cell_type": "markdown",
      "metadata": {
        "id": "p8mGlbOIXoD4"
      },
      "source": [
        "### **Activation Functions**\n",
        "Activation functions apply a non-linear transformation to the layer output and basically decide whether a neuron should be activated or not. \n",
        "\n",
        "**Why do we use them? Why is only a linear transformation not enough?**\n",
        "\n",
        "Typically, a linear layer in the network applies linear transformation which multiplies the input with some weights and delivers the output. Suppose, there are no activation functions in between, then we would have only linear transformations after each layer. So, our whole network from input to output is just a linear regression model which is not suited for more complex tasks. \n",
        "\n",
        "Therefore, with non-linear transformations in between, our network can learn better and perform more complex tasks. \n",
        "\n",
        "**Most popular activation functions:**\n",
        "1. **Step function:** It will just make the output one if the input is greater than a threshold value. This function is not usually used in practice.\n",
        "2. **Sigmoid:** Sigmoid function is a popular choice. It gives output a probability between 0 and 1. It is typically used in the last layer of a binary classification problem.\n",
        "3. **TanH:** This is basically a scaled sigmoid function and also a little bit shifted. So, this will give output a value between -1 and +1. It is a good choice in hidden layers.\n",
        "4. **ReLU:** Most popular choice in most of the networks. This will give output 0 for negative values and output simply the input for positive values. If you don't know what to use, just use a ReLU for hidden layers. \n",
        "5. **Leaky ReLU:** Slightly modified and improved version of the ReLU. This will still give output the input when X is positive, but it will multiply the input with a very small value when X is negative. This function tries to solve the vanishing gradient problem. In a normal ReLU where the negative values are zero, the gradient later in the backpropagation will also be zero. If the gradient is zero then the weights will never be updated. Thus, the neurons will be dead as they won't learn anything. This is why, sometimes we can use Leaky ReLU function instead of ReLU. \n",
        "6. **Softmax:** It basically squash the inputs to be outputs between 0 and 1, so that we have a probability as an output. This is a good choice in the last layer in multi class classification problems. \n",
        "\n",
        "\n"
      ]
    },
    {
      "cell_type": "code",
      "metadata": {
        "id": "54xD0ApHOy6W"
      },
      "source": [
        "import torch\n",
        "import torch.nn as nn\n",
        "import torch.nn.functional as F\n",
        "\n",
        "# option 1 (create nn modules)\n",
        "class NeuralNet(nn.Module):\n",
        "  def __init__(self, input_size, hidden_size):\n",
        "    super(NeuralNet, self).__init__()\n",
        "    self.linear1 = nn.Linear(input_size, hidden_size)\n",
        "    self.relu = nn.ReLU()\n",
        "    self.linear2 = nn.Linear(hidden_size, 1)\n",
        "    self.sigmoid = nn.Sigmoid()\n",
        "\n",
        "  def forward(self, x):\n",
        "      out = self.linear1(x)\n",
        "      out = self.relu(out)\n",
        "      out = self.linear2(out)\n",
        "      out = torch.sigmoid(out)\n",
        "      return out\n",
        "\n",
        "# option 2 (use activation functions directly in forward pass)\n",
        "class NeuralNet(nn.Module):\n",
        "  def __init__(self, input_size, hidden_size):\n",
        "    super(NeuralNet, self).__init__()\n",
        "    self.linear1 = nn.Linear(input_size, hidden_size)\n",
        "    self.linear2 = nn.Linear(hidden_size, 1)\n",
        "\n",
        "  def forward(self, x):\n",
        "      out = torch.relu(self.linear1(x))\n",
        "      out = torch.sigmoid(self.linear2(out))\n",
        "      return out"
      ],
      "execution_count": null,
      "outputs": []
    }
  ]
}