{
  "nbformat": 4,
  "nbformat_minor": 0,
  "metadata": {
    "colab": {
      "name": "PyTorch IV.ipynb",
      "provenance": [],
      "authorship_tag": "ABX9TyM/ATxrrFFhUjNTdfud1jnh",
      "include_colab_link": true
    },
    "kernelspec": {
      "name": "python3",
      "display_name": "Python 3"
    },
    "language_info": {
      "name": "python"
    },
    "accelerator": "GPU"
  },
  "cells": [
    {
      "cell_type": "markdown",
      "metadata": {
        "id": "view-in-github",
        "colab_type": "text"
      },
      "source": [
        "<a href=\"https://colab.research.google.com/github/shairatabassum/PyTorch_Learning/blob/main/PyTorch_IV.ipynb\" target=\"_parent\"><img src=\"https://colab.research.google.com/assets/colab-badge.svg\" alt=\"Open In Colab\"/></a>"
      ]
    },
    {
      "cell_type": "markdown",
      "metadata": {
        "id": "eom708rxHbqz"
      },
      "source": [
        "# **Deep Learning with PyTorch** (part IV)\n",
        "A PyTorch notebook that I created while learning PyTorch through a series of tutorials on YouTube.\n",
        "\n",
        "Source: [PyTorch Tutorials - Complete Beginner Course](https://www.youtube.com/watch?v=EMXfZB8FVUA&list=PLqnslRFeH2UrcDBWF5mfPGpqQDSta6VK4)\n",
        "\n",
        "\n",
        "> **Table of contents**\n",
        "> *  Save and Load Model\n",
        "> *  Save a Checkpoint During Model Training\n",
        "> *  Name Classification with Recurrent Neural Network (RNN)"
      ]
    },
    {
      "cell_type": "markdown",
      "metadata": {
        "id": "5cjf2PWYE_tr"
      },
      "source": [
        "### **Save and Load Model**\n",
        "\n",
        "There are two methods to save the model:\n",
        "* **Lazy Method:** In this case, we have to call **torch.save** and call the model and specify the path. Later when we want to load the model, we have to call **torch.load** and specify the path.\n",
        "The disadvantage of this method is, the serialized data is bound to the specific classes and the exact directory structure which is used when the model is saved. \n",
        "\n",
        "* **State Dict:** This one is the recommended way to save the model. If we want to save our trained model and use it later for inference, then it's enough to save only the parameters."
      ]
    },
    {
      "cell_type": "code",
      "metadata": {
        "id": "oK4vll9DdZ4I"
      },
      "source": [
        "import torch\n",
        "import torch.nn as nn"
      ],
      "execution_count": 1,
      "outputs": []
    },
    {
      "cell_type": "code",
      "metadata": {
        "id": "1bjIIPGcHFvd"
      },
      "source": [
        "# trained model \n",
        "\n",
        "class Model(nn.Module):\n",
        "    def __init__(self, n_input_features):\n",
        "        super(Model, self).__init__()\n",
        "        self.linear = nn.Linear(n_input_features, 1)\n",
        "\n",
        "    def forward(self, x):\n",
        "        y_pred = torch.sigmoid(self.linear(x))\n",
        "        return y_pred\n",
        "\n",
        "model = Model(n_input_features=6)"
      ],
      "execution_count": 2,
      "outputs": []
    },
    {
      "cell_type": "markdown",
      "metadata": {
        "id": "zbWFRuiaJ5ds"
      },
      "source": [
        "**Lazy method**"
      ]
    },
    {
      "cell_type": "code",
      "metadata": {
        "id": "hGyjQrOsHK6A"
      },
      "source": [
        "# save the model\n",
        "FILE = \"model.pth\"\n",
        "torch.save(model, FILE)"
      ],
      "execution_count": 3,
      "outputs": []
    },
    {
      "cell_type": "code",
      "metadata": {
        "colab": {
          "base_uri": "https://localhost:8080/"
        },
        "id": "5D0kFVIFHN1Y",
        "outputId": "c72c241c-ab72-4a64-fc5d-cd80d18990b6"
      },
      "source": [
        "# parameters of normal model\n",
        "for param in model.parameters():\n",
        "    print(param)\n",
        "\n",
        "# load the model \n",
        "loaded_model = torch.load(FILE)\n",
        "loaded_model.eval()\n",
        "\n",
        "# parameters of loaded model\n",
        "for param in loaded_model.parameters():\n",
        "    print(param)"
      ],
      "execution_count": 4,
      "outputs": [
        {
          "output_type": "stream",
          "name": "stdout",
          "text": [
            "Parameter containing:\n",
            "tensor([[ 0.0225,  0.1785, -0.2917,  0.4076,  0.4047, -0.1926]],\n",
            "       requires_grad=True)\n",
            "Parameter containing:\n",
            "tensor([-0.3674], requires_grad=True)\n",
            "Parameter containing:\n",
            "tensor([[ 0.0225,  0.1785, -0.2917,  0.4076,  0.4047, -0.1926]],\n",
            "       requires_grad=True)\n",
            "Parameter containing:\n",
            "tensor([-0.3674], requires_grad=True)\n"
          ]
        }
      ]
    },
    {
      "cell_type": "markdown",
      "metadata": {
        "id": "nsH_hGqNKND7"
      },
      "source": [
        "**State dict - preferred method**"
      ]
    },
    {
      "cell_type": "code",
      "metadata": {
        "id": "nzNxYkkiHRkF"
      },
      "source": [
        "# save the model\n",
        "FILE = \"model.pth\"\n",
        "torch.save(model.state_dict(), FILE)"
      ],
      "execution_count": 5,
      "outputs": []
    },
    {
      "cell_type": "code",
      "metadata": {
        "colab": {
          "base_uri": "https://localhost:8080/"
        },
        "id": "QnKmw0gHHWVx",
        "outputId": "7142648b-0430-4866-d3e2-601f09be4a07"
      },
      "source": [
        "# parameters of normal model\n",
        "for param in model.parameters():\n",
        "    print(param)\n",
        "\n",
        "# load the model\n",
        "print(model.state_dict())\n",
        "loaded_model = Model(n_input_features=6)\n",
        "loaded_model.load_state_dict(torch.load(FILE)) # it takes the loaded dictionary, not the path file itself\n",
        "loaded_model.eval()\n",
        "\n",
        "# parameters of normal model\n",
        "for param in loaded_model.parameters():\n",
        "    print(param)"
      ],
      "execution_count": 6,
      "outputs": [
        {
          "output_type": "stream",
          "name": "stdout",
          "text": [
            "Parameter containing:\n",
            "tensor([[ 0.0225,  0.1785, -0.2917,  0.4076,  0.4047, -0.1926]],\n",
            "       requires_grad=True)\n",
            "Parameter containing:\n",
            "tensor([-0.3674], requires_grad=True)\n",
            "OrderedDict([('linear.weight', tensor([[ 0.0225,  0.1785, -0.2917,  0.4076,  0.4047, -0.1926]])), ('linear.bias', tensor([-0.3674]))])\n",
            "Parameter containing:\n",
            "tensor([[ 0.0225,  0.1785, -0.2917,  0.4076,  0.4047, -0.1926]],\n",
            "       requires_grad=True)\n",
            "Parameter containing:\n",
            "tensor([-0.3674], requires_grad=True)\n"
          ]
        }
      ]
    },
    {
      "cell_type": "markdown",
      "metadata": {
        "id": "bJKrJbfVMNs7"
      },
      "source": [
        "### **Save a Checkpoint During Model Training**"
      ]
    },
    {
      "cell_type": "code",
      "metadata": {
        "colab": {
          "base_uri": "https://localhost:8080/"
        },
        "id": "EWiDulUOLOhk",
        "outputId": "97061050-5d63-4ac5-9b44-9d54cce0d7b4"
      },
      "source": [
        "# save checkpoint\n",
        "learning_rate = 0.01\n",
        "optimizer = torch.optim.SGD(model.parameters(), lr=learning_rate)\n",
        "print(optimizer.state_dict())\n",
        "\n",
        "checkpoint = {\n",
        "\"epoch\": 90,\n",
        "\"model_state\": model.state_dict(),\n",
        "\"optim_state\": optimizer.state_dict()\n",
        "}\n",
        "\n",
        "FILE = \"checkpoint.pth\"\n",
        "torch.save(checkpoint, FILE)"
      ],
      "execution_count": 10,
      "outputs": [
        {
          "output_type": "stream",
          "name": "stdout",
          "text": [
            "{'state': {}, 'param_groups': [{'lr': 0.01, 'momentum': 0, 'dampening': 0, 'weight_decay': 0, 'nesterov': False, 'params': [0, 1]}]}\n"
          ]
        }
      ]
    },
    {
      "cell_type": "code",
      "metadata": {
        "colab": {
          "base_uri": "https://localhost:8080/"
        },
        "id": "QPNzrGvIOTW8",
        "outputId": "c816f10d-2e9e-42b6-88b4-c19ff913a63d"
      },
      "source": [
        "# load checkpoint\n",
        "loaded_checkpoint = torch.load(FILE)\n",
        "epoch = loaded_checkpoint['epoch']\n",
        "\n",
        "model = Model(n_input_features=6)\n",
        "optimizer = optimizer = torch.optim.SGD(model.parameters(), lr=0)\n",
        "\n",
        "model.load_state_dict(checkpoint['model_state'])\n",
        "optimizer.load_state_dict(checkpoint['optim_state'])\n",
        "\n",
        "print(optimizer.state_dict())"
      ],
      "execution_count": 11,
      "outputs": [
        {
          "output_type": "stream",
          "name": "stdout",
          "text": [
            "{'state': {}, 'param_groups': [{'lr': 0.01, 'momentum': 0, 'dampening': 0, 'weight_decay': 0, 'nesterov': False, 'params': [0, 1]}]}\n"
          ]
        }
      ]
    },
    {
      "cell_type": "markdown",
      "metadata": {
        "id": "dyr95d_4dGgQ"
      },
      "source": [
        "### **Name Classification with Recurrent Neural Network (RNN)**\n",
        "\n",
        "Here the RNN is implemented from scratch instead of using nn.RNN module.\n",
        "\n",
        "Dataset: [Names](https://download.pytorch.org/tutorial/data.zip)"
      ]
    },
    {
      "cell_type": "code",
      "metadata": {
        "id": "6pIkVAqpgQZk"
      },
      "source": [
        "import io\n",
        "import os\n",
        "import unicodedata\n",
        "import string\n",
        "import glob\n",
        "\n",
        "import torch\n",
        "import random\n",
        "\n",
        "import torch\n",
        "import torch.nn as nn \n",
        "import matplotlib.pyplot as plt\n",
        "\n",
        "# alphabet small + capital letters + \" .,;'\"\n",
        "ALL_LETTERS = string.ascii_letters + \" .,;'\"\n",
        "N_LETTERS = len(ALL_LETTERS)"
      ],
      "execution_count": 1,
      "outputs": []
    },
    {
      "cell_type": "code",
      "metadata": {
        "id": "9KAVq1_xPTpU"
      },
      "source": [
        "# Turn a Unicode string to plain ASCII, thanks to https://stackoverflow.com/a/518232/2809427\n",
        "def unicode_to_ascii(s):\n",
        "    return ''.join(\n",
        "        c for c in unicodedata.normalize('NFD', s)\n",
        "        if unicodedata.category(c) != 'Mn'\n",
        "        and c in ALL_LETTERS\n",
        "    )\n",
        "\n",
        "def load_data():\n",
        "    # Build the category_lines dictionary, a list of names per language\n",
        "    category_lines = {}\n",
        "    all_categories = []\n",
        "    \n",
        "    def find_files(path):\n",
        "        return glob.glob(path)\n",
        "    \n",
        "    # Read a file and split into lines\n",
        "    def read_lines(filename):\n",
        "        lines = io.open(filename, encoding='utf-8').read().strip().split('\\n')\n",
        "        return [unicode_to_ascii(line) for line in lines]\n",
        "    \n",
        "    for filename in find_files('data/names/*.txt'):\n",
        "        category = os.path.splitext(os.path.basename(filename))[0]\n",
        "        all_categories.append(category)\n",
        "        \n",
        "        lines = read_lines(filename)\n",
        "        category_lines[category] = lines\n",
        "        \n",
        "    return category_lines, all_categories"
      ],
      "execution_count": 2,
      "outputs": []
    },
    {
      "cell_type": "code",
      "metadata": {
        "id": "ItJ_QVUiiQIs"
      },
      "source": [
        "\"\"\"\n",
        "To represent a single letter, we use a “one-hot vector” of \n",
        "size <1 x n_letters>. A one-hot vector is filled with 0s\n",
        "except for a 1 at index of the current letter, e.g. \"b\" = <0 1 0 0 0 ...>.\n",
        "To make a word we join a bunch of those into a\n",
        "2D matrix <line_length x 1 x n_letters>.\n",
        "That extra 1 dimension is because PyTorch assumes\n",
        "everything is in batches - we’re just using a batch size of 1 here.\n",
        "\"\"\"\n",
        "\n",
        "# Find letter index from all_letters, e.g. \"a\" = 0\n",
        "def letter_to_index(letter):\n",
        "    return ALL_LETTERS.find(letter)\n",
        "\n",
        "# Just for demonstration, turn a letter into a <1 x n_letters> Tensor\n",
        "def letter_to_tensor(letter):\n",
        "    tensor = torch.zeros(1, N_LETTERS)\n",
        "    tensor[0][letter_to_index(letter)] = 1\n",
        "    return tensor\n",
        "\n",
        "# Turn a line into a <line_length x 1 x n_letters>,\n",
        "# or an array of one-hot letter vectors\n",
        "def line_to_tensor(line):\n",
        "    tensor = torch.zeros(len(line), 1, N_LETTERS)\n",
        "    for i, letter in enumerate(line):\n",
        "        tensor[i][0][letter_to_index(letter)] = 1\n",
        "    return tensor"
      ],
      "execution_count": 3,
      "outputs": []
    },
    {
      "cell_type": "code",
      "metadata": {
        "colab": {
          "base_uri": "https://localhost:8080/"
        },
        "id": "cAXWiyICiVdx",
        "outputId": "9681e271-c63d-422e-ed6a-73bd739331c4"
      },
      "source": [
        "def random_training_example(category_lines, all_categories):\n",
        "    \n",
        "    def random_choice(a):\n",
        "        random_idx = random.randint(0, len(a) - 1)\n",
        "        return a[random_idx]\n",
        "    \n",
        "    category = random_choice(all_categories)\n",
        "    line = random_choice(category_lines[category])\n",
        "    category_tensor = torch.tensor([all_categories.index(category)], dtype=torch.long)\n",
        "    line_tensor = line_to_tensor(line)\n",
        "    return category, line, category_tensor, line_tensor\n",
        "\n",
        "if __name__ == '__main__':\n",
        "    print(ALL_LETTERS)\n",
        "    print(unicode_to_ascii('Ślusàrski'))\n",
        "    \n",
        "    category_lines, all_categories = load_data()\n",
        "    print(category_lines['Arabic'][:5])\n",
        "    \n",
        "    print(letter_to_tensor('J')) # [1, 57]\n",
        "    print(line_to_tensor('Jones').size()) # [5, 1, 57]"
      ],
      "execution_count": 6,
      "outputs": [
        {
          "output_type": "stream",
          "name": "stdout",
          "text": [
            "abcdefghijklmnopqrstuvwxyzABCDEFGHIJKLMNOPQRSTUVWXYZ .,;'\n",
            "Slusarski\n",
            "['Khoury', 'Nahas', 'Daher', 'Gerges', 'Nazari']\n",
            "tensor([[0., 0., 0., 0., 0., 0., 0., 0., 0., 0., 0., 0., 0., 0., 0., 0., 0., 0.,\n",
            "         0., 0., 0., 0., 0., 0., 0., 0., 0., 0., 0., 0., 0., 0., 0., 0., 0., 1.,\n",
            "         0., 0., 0., 0., 0., 0., 0., 0., 0., 0., 0., 0., 0., 0., 0., 0., 0., 0.,\n",
            "         0., 0., 0.]])\n",
            "torch.Size([5, 1, 57])\n"
          ]
        }
      ]
    },
    {
      "cell_type": "markdown",
      "metadata": {
        "id": "vhOmawOYid_J"
      },
      "source": [
        "**Name Classification - RNN**"
      ]
    },
    {
      "cell_type": "code",
      "metadata": {
        "id": "m1BapXHJigRu"
      },
      "source": [
        "class RNN(nn.Module):\n",
        "    # implement RNN from scratch rather than using nn.RNN\n",
        "    def __init__(self, input_size, hidden_size, output_size):\n",
        "        super(RNN, self).__init__()\n",
        "        \n",
        "        self.hidden_size = hidden_size\n",
        "        self.i2h = nn.Linear(input_size + hidden_size, hidden_size)\n",
        "        self.i2o = nn.Linear(input_size + hidden_size, output_size)\n",
        "        self.softmax = nn.LogSoftmax(dim=1)\n",
        "        \n",
        "    def forward(self, input_tensor, hidden_tensor):\n",
        "        combined = torch.cat((input_tensor, hidden_tensor), 1)\n",
        "        \n",
        "        hidden = self.i2h(combined)\n",
        "        output = self.i2o(combined)\n",
        "        output = self.softmax(output)\n",
        "        return output, hidden\n",
        "    \n",
        "    def init_hidden(self):\n",
        "        return torch.zeros(1, self.hidden_size)"
      ],
      "execution_count": 4,
      "outputs": []
    },
    {
      "cell_type": "code",
      "metadata": {
        "colab": {
          "base_uri": "https://localhost:8080/"
        },
        "id": "_CBI9l8IiqGY",
        "outputId": "a4b29a89-1602-4b5a-fd33-cc56dbe1d146"
      },
      "source": [
        "!unzip data.zip\n",
        "\n",
        "category_lines, all_categories = load_data()\n",
        "n_categories = len(all_categories)\n",
        "\n",
        "n_hidden = 128\n",
        "rnn = RNN(N_LETTERS, n_hidden, n_categories)"
      ],
      "execution_count": 5,
      "outputs": [
        {
          "output_type": "stream",
          "name": "stdout",
          "text": [
            "Archive:  data.zip\n",
            "   creating: data/\n",
            "  inflating: data/eng-fra.txt        \n",
            "   creating: data/names/\n",
            "  inflating: data/names/Arabic.txt   \n",
            "  inflating: data/names/Chinese.txt  \n",
            "  inflating: data/names/Czech.txt    \n",
            "  inflating: data/names/Dutch.txt    \n",
            "  inflating: data/names/English.txt  \n",
            "  inflating: data/names/French.txt   \n",
            "  inflating: data/names/German.txt   \n",
            "  inflating: data/names/Greek.txt    \n",
            "  inflating: data/names/Irish.txt    \n",
            "  inflating: data/names/Italian.txt  \n",
            "  inflating: data/names/Japanese.txt  \n",
            "  inflating: data/names/Korean.txt   \n",
            "  inflating: data/names/Polish.txt   \n",
            "  inflating: data/names/Portuguese.txt  \n",
            "  inflating: data/names/Russian.txt  \n",
            "  inflating: data/names/Scottish.txt  \n",
            "  inflating: data/names/Spanish.txt  \n",
            "  inflating: data/names/Vietnamese.txt  \n"
          ]
        }
      ]
    },
    {
      "cell_type": "code",
      "metadata": {
        "colab": {
          "base_uri": "https://localhost:8080/"
        },
        "id": "AJdcrMM-itWC",
        "outputId": "33f45412-5b9f-46fe-feb9-9b64b3aefb62"
      },
      "source": [
        "# one step\n",
        "input_tensor = letter_to_tensor('A')\n",
        "hidden_tensor = rnn.init_hidden()\n",
        "\n",
        "output, next_hidden = rnn(input_tensor, hidden_tensor)\n",
        "print(output.size())\n",
        "print(next_hidden.size())\n",
        "\n",
        "# whole sequence/name\n",
        "input_tensor = line_to_tensor('Albert')\n",
        "hidden_tensor = rnn.init_hidden()\n",
        "\n",
        "output, next_hidden = rnn(input_tensor[0], hidden_tensor)\n",
        "print(output.size())\n",
        "print(next_hidden.size())"
      ],
      "execution_count": 7,
      "outputs": [
        {
          "output_type": "stream",
          "name": "stdout",
          "text": [
            "torch.Size([1, 18])\n",
            "torch.Size([1, 128])\n",
            "torch.Size([1, 18])\n",
            "torch.Size([1, 128])\n"
          ]
        }
      ]
    },
    {
      "cell_type": "code",
      "metadata": {
        "colab": {
          "base_uri": "https://localhost:8080/"
        },
        "id": "dwvJSbWIiwHF",
        "outputId": "e88208ff-cd1a-4de7-dc61-f9ea579f7581"
      },
      "source": [
        "def category_from_output(output):\n",
        "    category_idx = torch.argmax(output).item()\n",
        "    return all_categories[category_idx]\n",
        "\n",
        "print(category_from_output(output))\n",
        "\n",
        "criterion = nn.NLLLoss()\n",
        "learning_rate = 0.005\n",
        "optimizer = torch.optim.SGD(rnn.parameters(), lr=learning_rate)\n",
        "\n",
        "def train(line_tensor, category_tensor):\n",
        "    hidden = rnn.init_hidden()\n",
        "    \n",
        "    for i in range(line_tensor.size()[0]):\n",
        "        output, hidden = rnn(line_tensor[i], hidden)\n",
        "        \n",
        "    loss = criterion(output, category_tensor)\n",
        "    \n",
        "    optimizer.zero_grad()\n",
        "    loss.backward()\n",
        "    optimizer.step()\n",
        "    \n",
        "    return output, loss.item()"
      ],
      "execution_count": 8,
      "outputs": [
        {
          "output_type": "stream",
          "name": "stdout",
          "text": [
            "German\n"
          ]
        }
      ]
    },
    {
      "cell_type": "code",
      "metadata": {
        "colab": {
          "base_uri": "https://localhost:8080/",
          "height": 620
        },
        "id": "Pe3nTwgrizNp",
        "outputId": "81665e6a-b319-47c4-80ca-a24b2ecea430"
      },
      "source": [
        "current_loss = 0\n",
        "all_losses = []\n",
        "plot_steps, print_steps = 1000, 5000\n",
        "n_iters = 100000\n",
        "for i in range(n_iters):\n",
        "    category, line, category_tensor, line_tensor = random_training_example(category_lines, all_categories)\n",
        "    \n",
        "    output, loss = train(line_tensor, category_tensor)\n",
        "    current_loss += loss \n",
        "    \n",
        "    if (i+1) % plot_steps == 0:\n",
        "        all_losses.append(current_loss / plot_steps)\n",
        "        current_loss = 0\n",
        "        \n",
        "    if (i+1) % print_steps == 0:\n",
        "        guess = category_from_output(output)\n",
        "        correct = \"CORRECT\" if guess == category else f\"WRONG ({category})\"\n",
        "        print(f\"{i+1} {(i+1)/n_iters*100} {loss:.4f} {line} / {guess} {correct}\")\n",
        "\n",
        "plt.figure()\n",
        "plt.plot(all_losses)\n",
        "plt.show()"
      ],
      "execution_count": 9,
      "outputs": [
        {
          "output_type": "stream",
          "name": "stdout",
          "text": [
            "5000 5.0 2.9386 Watt / Chinese WRONG (Scottish)\n",
            "10000 10.0 2.7607 Tykal / Arabic WRONG (Czech)\n",
            "15000 15.0 1.5003 La / Vietnamese CORRECT\n",
            "20000 20.0 1.3697 Si / Vietnamese WRONG (Korean)\n",
            "25000 25.0 2.4504 Maneates / Dutch WRONG (Greek)\n",
            "30000 30.0 2.3436 Bruce / French WRONG (Scottish)\n",
            "35000 35.0 1.8065 Rocha / Czech WRONG (Portuguese)\n",
            "40000 40.0 1.1979 Zhinkin / Russian CORRECT\n",
            "45000 45.0 0.2576 Safar / Arabic CORRECT\n",
            "50000 50.0 3.6312 Finn / Chinese WRONG (Irish)\n",
            "55000 55.00000000000001 1.6174 Santana / Spanish WRONG (Portuguese)\n",
            "60000 60.0 0.2543 Tron / Vietnamese CORRECT\n",
            "65000 65.0 0.8048 Naifeh / Arabic CORRECT\n",
            "70000 70.0 1.3050 Fionn / Vietnamese WRONG (Irish)\n",
            "75000 75.0 1.6954 She / Korean WRONG (Chinese)\n",
            "80000 80.0 2.4101 Wakefield / German WRONG (English)\n",
            "85000 85.0 2.6878 Richelieu / Scottish WRONG (French)\n",
            "90000 90.0 0.0238 Pappayiorgas / Greek CORRECT\n",
            "95000 95.0 0.5814 Kupfel / Czech CORRECT\n",
            "100000 100.0 1.0029 Perrot / French CORRECT\n"
          ]
        },
        {
          "output_type": "display_data",
          "data": {
            "image/png": "[encoded data removed]",
            "text/plain": [
              "<Figure size 432x288 with 1 Axes>"
            ]
          },
          "metadata": {
            "needs_background": "light"
          }
        }
      ]
    },
    {
      "cell_type": "code",
      "metadata": {
        "colab": {
          "base_uri": "https://localhost:8080/"
        },
        "id": "MG7To1iji3Kp",
        "outputId": "40ae781c-0c1a-4da2-b2d3-f430fdcf0fb8"
      },
      "source": [
        "def predict(input_line):\n",
        "    print(f\"\\n> {input_line}\")\n",
        "    with torch.no_grad():\n",
        "        line_tensor = line_to_tensor(input_line)\n",
        "        \n",
        "        hidden = rnn.init_hidden()\n",
        "    \n",
        "        for i in range(line_tensor.size()[0]):\n",
        "            output, hidden = rnn(line_tensor[i], hidden)\n",
        "        \n",
        "        guess = category_from_output(output)\n",
        "        print(guess)\n",
        "\n",
        "\n",
        "while True:\n",
        "    sentence = input(\"\\nInput:\")\n",
        "    if sentence == \"quit\":\n",
        "        break\n",
        "    \n",
        "    predict(sentence)"
      ],
      "execution_count": 12,
      "outputs": [
        {
          "name": "stdout",
          "output_type": "stream",
          "text": [
            "\n",
            "Input:Shaira Tabassum\n",
            "\n",
            "> Shaira Tabassum\n",
            "French\n",
            "\n",
            "Input:Tasmiah Shifa\n",
            "\n",
            "> Tasmiah Shifa\n",
            "Korean\n",
            "\n",
            "Input:Taylor Swift\n",
            "\n",
            "> Taylor Swift\n",
            "French\n",
            "\n",
            "Input:Chris Evans\n",
            "\n",
            "> Chris Evans\n",
            "French\n",
            "\n",
            "Input:Daniel Redcliffe\n",
            "\n",
            "> Daniel Redcliffe\n",
            "Irish\n",
            "\n",
            "Input:Adam Levine\n",
            "\n",
            "> Adam Levine\n",
            "French\n",
            "\n",
            "Input:quit\n"
          ]
        }
      ]
    }
  ]
}